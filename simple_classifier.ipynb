{
 "cells": [
  {
   "cell_type": "code",
   "execution_count": 2,
   "metadata": {},
   "outputs": [],
   "source": [
    "import pandas as pd\n",
    "import numpy as np\n",
    "import matplotlib.pyplot as plt\n",
    "import seaborn as sns\n"
   ]
  },
  {
   "cell_type": "code",
   "execution_count": 3,
   "metadata": {},
   "outputs": [],
   "source": [
    "x_train = pd.read_csv('./data/track1/features/x_train_normal.csv')\n",
    "x_valid = pd.read_csv('./data/track1/features/x_valid_normal.csv')\n",
    "x_test = pd.read_csv('./data/track1/features/x_test_normal.csv')\n",
    "y_train = pd.read_csv('./data/track1/features/y_train_normal.csv')\n",
    "y_valid = pd.read_csv('./data/track1/features/y_valid_normal.csv')\n",
    "y_test = pd.read_csv('./data/track1/features/y_test_normal.csv')"
   ]
  },
  {
   "cell_type": "code",
   "execution_count": 4,
   "metadata": {},
   "outputs": [],
   "source": [
    "x_train_features = x_train.drop(columns=['날짜', 'CODE'], inplace=False)\n",
    "x_valid_features = x_valid.drop(columns=['날짜', 'CODE'], inplace=False)\n",
    "x_test_features = x_test.drop(columns=['날짜', 'CODE'], inplace=False)\n",
    "y_train_bool = y_train['Y'] <-2.0\n",
    "y_valid_bool = y_valid['Y'] <-2.0\n",
    "y_test_bool = y_test['Y'] <-2.0"
   ]
  },
  {
   "cell_type": "code",
   "execution_count": 4,
   "metadata": {},
   "outputs": [
    {
     "data": {
      "text/plain": [
       "0        False\n",
       "1        False\n",
       "2        False\n",
       "3        False\n",
       "4         True\n",
       "         ...  \n",
       "76108     True\n",
       "76109    False\n",
       "76110    False\n",
       "76111    False\n",
       "76112     True\n",
       "Name: Y, Length: 76113, dtype: bool"
      ]
     },
     "execution_count": 4,
     "metadata": {},
     "output_type": "execute_result"
    }
   ],
   "source": [
    "y_train_bool"
   ]
  },
  {
   "cell_type": "markdown",
   "metadata": {},
   "source": [
    "### 1. Decision Tree"
   ]
  },
  {
   "cell_type": "code",
   "execution_count": 9,
   "metadata": {},
   "outputs": [
    {
     "data": {
      "text/html": [
       "<style>#sk-container-id-2 {color: black;background-color: white;}#sk-container-id-2 pre{padding: 0;}#sk-container-id-2 div.sk-toggleable {background-color: white;}#sk-container-id-2 label.sk-toggleable__label {cursor: pointer;display: block;width: 100%;margin-bottom: 0;padding: 0.3em;box-sizing: border-box;text-align: center;}#sk-container-id-2 label.sk-toggleable__label-arrow:before {content: \"▸\";float: left;margin-right: 0.25em;color: #696969;}#sk-container-id-2 label.sk-toggleable__label-arrow:hover:before {color: black;}#sk-container-id-2 div.sk-estimator:hover label.sk-toggleable__label-arrow:before {color: black;}#sk-container-id-2 div.sk-toggleable__content {max-height: 0;max-width: 0;overflow: hidden;text-align: left;background-color: #f0f8ff;}#sk-container-id-2 div.sk-toggleable__content pre {margin: 0.2em;color: black;border-radius: 0.25em;background-color: #f0f8ff;}#sk-container-id-2 input.sk-toggleable__control:checked~div.sk-toggleable__content {max-height: 200px;max-width: 100%;overflow: auto;}#sk-container-id-2 input.sk-toggleable__control:checked~label.sk-toggleable__label-arrow:before {content: \"▾\";}#sk-container-id-2 div.sk-estimator input.sk-toggleable__control:checked~label.sk-toggleable__label {background-color: #d4ebff;}#sk-container-id-2 div.sk-label input.sk-toggleable__control:checked~label.sk-toggleable__label {background-color: #d4ebff;}#sk-container-id-2 input.sk-hidden--visually {border: 0;clip: rect(1px 1px 1px 1px);clip: rect(1px, 1px, 1px, 1px);height: 1px;margin: -1px;overflow: hidden;padding: 0;position: absolute;width: 1px;}#sk-container-id-2 div.sk-estimator {font-family: monospace;background-color: #f0f8ff;border: 1px dotted black;border-radius: 0.25em;box-sizing: border-box;margin-bottom: 0.5em;}#sk-container-id-2 div.sk-estimator:hover {background-color: #d4ebff;}#sk-container-id-2 div.sk-parallel-item::after {content: \"\";width: 100%;border-bottom: 1px solid gray;flex-grow: 1;}#sk-container-id-2 div.sk-label:hover label.sk-toggleable__label {background-color: #d4ebff;}#sk-container-id-2 div.sk-serial::before {content: \"\";position: absolute;border-left: 1px solid gray;box-sizing: border-box;top: 0;bottom: 0;left: 50%;z-index: 0;}#sk-container-id-2 div.sk-serial {display: flex;flex-direction: column;align-items: center;background-color: white;padding-right: 0.2em;padding-left: 0.2em;position: relative;}#sk-container-id-2 div.sk-item {position: relative;z-index: 1;}#sk-container-id-2 div.sk-parallel {display: flex;align-items: stretch;justify-content: center;background-color: white;position: relative;}#sk-container-id-2 div.sk-item::before, #sk-container-id-2 div.sk-parallel-item::before {content: \"\";position: absolute;border-left: 1px solid gray;box-sizing: border-box;top: 0;bottom: 0;left: 50%;z-index: -1;}#sk-container-id-2 div.sk-parallel-item {display: flex;flex-direction: column;z-index: 1;position: relative;background-color: white;}#sk-container-id-2 div.sk-parallel-item:first-child::after {align-self: flex-end;width: 50%;}#sk-container-id-2 div.sk-parallel-item:last-child::after {align-self: flex-start;width: 50%;}#sk-container-id-2 div.sk-parallel-item:only-child::after {width: 0;}#sk-container-id-2 div.sk-dashed-wrapped {border: 1px dashed gray;margin: 0 0.4em 0.5em 0.4em;box-sizing: border-box;padding-bottom: 0.4em;background-color: white;}#sk-container-id-2 div.sk-label label {font-family: monospace;font-weight: bold;display: inline-block;line-height: 1.2em;}#sk-container-id-2 div.sk-label-container {text-align: center;}#sk-container-id-2 div.sk-container {/* jupyter's `normalize.less` sets `[hidden] { display: none; }` but bootstrap.min.css set `[hidden] { display: none !important; }` so we also need the `!important` here to be able to override the default hidden behavior on the sphinx rendered scikit-learn.org. See: https://github.com/scikit-learn/scikit-learn/issues/21755 */display: inline-block !important;position: relative;}#sk-container-id-2 div.sk-text-repr-fallback {display: none;}</style><div id=\"sk-container-id-2\" class=\"sk-top-container\"><div class=\"sk-text-repr-fallback\"><pre>DecisionTreeClassifier(class_weight={False: 1, True: 10}, max_depth=10,\n",
       "                       min_samples_split=5)</pre><b>In a Jupyter environment, please rerun this cell to show the HTML representation or trust the notebook. <br />On GitHub, the HTML representation is unable to render, please try loading this page with nbviewer.org.</b></div><div class=\"sk-container\" hidden><div class=\"sk-item\"><div class=\"sk-estimator sk-toggleable\"><input class=\"sk-toggleable__control sk-hidden--visually\" id=\"sk-estimator-id-2\" type=\"checkbox\" checked><label for=\"sk-estimator-id-2\" class=\"sk-toggleable__label sk-toggleable__label-arrow\">DecisionTreeClassifier</label><div class=\"sk-toggleable__content\"><pre>DecisionTreeClassifier(class_weight={False: 1, True: 10}, max_depth=10,\n",
       "                       min_samples_split=5)</pre></div></div></div></div></div>"
      ],
      "text/plain": [
       "DecisionTreeClassifier(class_weight={False: 1, True: 10}, max_depth=10,\n",
       "                       min_samples_split=5)"
      ]
     },
     "execution_count": 9,
     "metadata": {},
     "output_type": "execute_result"
    }
   ],
   "source": [
    "from sklearn import tree\n",
    "decisionTree = tree.DecisionTreeClassifier(\n",
    "    max_depth=10,\n",
    "    min_samples_split=5,\n",
    "    class_weight={True: 10, False: 1}\n",
    ")\n",
    "decisionTree.fit(x_train_features, y_train_bool)"
   ]
  },
  {
   "cell_type": "code",
   "execution_count": 71,
   "metadata": {},
   "outputs": [
    {
     "name": "stdout",
     "output_type": "stream",
     "text": [
      "              precision    recall  f1-score   support\n",
      "\n",
      "     no risk       0.96      0.26      0.41     63323\n",
      "        risk       0.21      0.95      0.34     12790\n",
      "\n",
      "    accuracy                           0.38     76113\n",
      "   macro avg       0.58      0.61      0.37     76113\n",
      "weighted avg       0.84      0.38      0.40     76113\n",
      "\n"
     ]
    }
   ],
   "source": [
    "from sklearn.metrics import classification_report\n",
    "\n",
    "y_pred = decisionTree.predict(x_train_features)\n",
    "target_names = ['no risk', 'risk']\n",
    "print(classification_report(y_train_bool, y_pred, target_names = target_names))"
   ]
  },
  {
   "cell_type": "code",
   "execution_count": 72,
   "metadata": {},
   "outputs": [
    {
     "name": "stdout",
     "output_type": "stream",
     "text": [
      "              precision    recall  f1-score   support\n",
      "\n",
      "     no risk       0.92      0.25      0.40     21102\n",
      "        risk       0.20      0.89      0.32      4267\n",
      "\n",
      "    accuracy                           0.36     25369\n",
      "   macro avg       0.56      0.57      0.36     25369\n",
      "weighted avg       0.80      0.36      0.38     25369\n",
      "\n"
     ]
    }
   ],
   "source": [
    "from sklearn.metrics import classification_report\n",
    "\n",
    "y_pred = decisionTree.predict(x_valid_features)\n",
    "target_names = ['no risk', 'risk']\n",
    "print(classification_report(y_valid_bool, y_pred, target_names = target_names))"
   ]
  },
  {
   "cell_type": "markdown",
   "metadata": {},
   "source": [
    "### 2. Random Forest "
   ]
  },
  {
   "cell_type": "code",
   "execution_count": 5,
   "metadata": {},
   "outputs": [
    {
     "data": {
      "text/plain": [
       "Y    \n",
       "False    63323\n",
       "True     63323\n",
       "dtype: int64"
      ]
     },
     "execution_count": 5,
     "metadata": {},
     "output_type": "execute_result"
    }
   ],
   "source": [
    "from imblearn.over_sampling import RandomOverSampler\n",
    "from collections import Counter\n",
    "\n",
    "oversample = RandomOverSampler(random_state = 42)\n",
    "x_over, y_over = oversample.fit_resample(x_train_features, y_train_bool)\n",
    "pd.DataFrame(y_over).value_counts()"
   ]
  },
  {
   "cell_type": "code",
   "execution_count": 16,
   "metadata": {},
   "outputs": [
    {
     "data": {
      "text/html": [
       "<style>#sk-container-id-5 {color: black;background-color: white;}#sk-container-id-5 pre{padding: 0;}#sk-container-id-5 div.sk-toggleable {background-color: white;}#sk-container-id-5 label.sk-toggleable__label {cursor: pointer;display: block;width: 100%;margin-bottom: 0;padding: 0.3em;box-sizing: border-box;text-align: center;}#sk-container-id-5 label.sk-toggleable__label-arrow:before {content: \"▸\";float: left;margin-right: 0.25em;color: #696969;}#sk-container-id-5 label.sk-toggleable__label-arrow:hover:before {color: black;}#sk-container-id-5 div.sk-estimator:hover label.sk-toggleable__label-arrow:before {color: black;}#sk-container-id-5 div.sk-toggleable__content {max-height: 0;max-width: 0;overflow: hidden;text-align: left;background-color: #f0f8ff;}#sk-container-id-5 div.sk-toggleable__content pre {margin: 0.2em;color: black;border-radius: 0.25em;background-color: #f0f8ff;}#sk-container-id-5 input.sk-toggleable__control:checked~div.sk-toggleable__content {max-height: 200px;max-width: 100%;overflow: auto;}#sk-container-id-5 input.sk-toggleable__control:checked~label.sk-toggleable__label-arrow:before {content: \"▾\";}#sk-container-id-5 div.sk-estimator input.sk-toggleable__control:checked~label.sk-toggleable__label {background-color: #d4ebff;}#sk-container-id-5 div.sk-label input.sk-toggleable__control:checked~label.sk-toggleable__label {background-color: #d4ebff;}#sk-container-id-5 input.sk-hidden--visually {border: 0;clip: rect(1px 1px 1px 1px);clip: rect(1px, 1px, 1px, 1px);height: 1px;margin: -1px;overflow: hidden;padding: 0;position: absolute;width: 1px;}#sk-container-id-5 div.sk-estimator {font-family: monospace;background-color: #f0f8ff;border: 1px dotted black;border-radius: 0.25em;box-sizing: border-box;margin-bottom: 0.5em;}#sk-container-id-5 div.sk-estimator:hover {background-color: #d4ebff;}#sk-container-id-5 div.sk-parallel-item::after {content: \"\";width: 100%;border-bottom: 1px solid gray;flex-grow: 1;}#sk-container-id-5 div.sk-label:hover label.sk-toggleable__label {background-color: #d4ebff;}#sk-container-id-5 div.sk-serial::before {content: \"\";position: absolute;border-left: 1px solid gray;box-sizing: border-box;top: 0;bottom: 0;left: 50%;z-index: 0;}#sk-container-id-5 div.sk-serial {display: flex;flex-direction: column;align-items: center;background-color: white;padding-right: 0.2em;padding-left: 0.2em;position: relative;}#sk-container-id-5 div.sk-item {position: relative;z-index: 1;}#sk-container-id-5 div.sk-parallel {display: flex;align-items: stretch;justify-content: center;background-color: white;position: relative;}#sk-container-id-5 div.sk-item::before, #sk-container-id-5 div.sk-parallel-item::before {content: \"\";position: absolute;border-left: 1px solid gray;box-sizing: border-box;top: 0;bottom: 0;left: 50%;z-index: -1;}#sk-container-id-5 div.sk-parallel-item {display: flex;flex-direction: column;z-index: 1;position: relative;background-color: white;}#sk-container-id-5 div.sk-parallel-item:first-child::after {align-self: flex-end;width: 50%;}#sk-container-id-5 div.sk-parallel-item:last-child::after {align-self: flex-start;width: 50%;}#sk-container-id-5 div.sk-parallel-item:only-child::after {width: 0;}#sk-container-id-5 div.sk-dashed-wrapped {border: 1px dashed gray;margin: 0 0.4em 0.5em 0.4em;box-sizing: border-box;padding-bottom: 0.4em;background-color: white;}#sk-container-id-5 div.sk-label label {font-family: monospace;font-weight: bold;display: inline-block;line-height: 1.2em;}#sk-container-id-5 div.sk-label-container {text-align: center;}#sk-container-id-5 div.sk-container {/* jupyter's `normalize.less` sets `[hidden] { display: none; }` but bootstrap.min.css set `[hidden] { display: none !important; }` so we also need the `!important` here to be able to override the default hidden behavior on the sphinx rendered scikit-learn.org. See: https://github.com/scikit-learn/scikit-learn/issues/21755 */display: inline-block !important;position: relative;}#sk-container-id-5 div.sk-text-repr-fallback {display: none;}</style><div id=\"sk-container-id-5\" class=\"sk-top-container\"><div class=\"sk-text-repr-fallback\"><pre>RandomForestClassifier(class_weight={False: 1, True: 10}, criterion=&#x27;log_loss&#x27;,\n",
       "                       max_depth=10, n_estimators=200)</pre><b>In a Jupyter environment, please rerun this cell to show the HTML representation or trust the notebook. <br />On GitHub, the HTML representation is unable to render, please try loading this page with nbviewer.org.</b></div><div class=\"sk-container\" hidden><div class=\"sk-item\"><div class=\"sk-estimator sk-toggleable\"><input class=\"sk-toggleable__control sk-hidden--visually\" id=\"sk-estimator-id-5\" type=\"checkbox\" checked><label for=\"sk-estimator-id-5\" class=\"sk-toggleable__label sk-toggleable__label-arrow\">RandomForestClassifier</label><div class=\"sk-toggleable__content\"><pre>RandomForestClassifier(class_weight={False: 1, True: 10}, criterion=&#x27;log_loss&#x27;,\n",
       "                       max_depth=10, n_estimators=200)</pre></div></div></div></div></div>"
      ],
      "text/plain": [
       "RandomForestClassifier(class_weight={False: 1, True: 10}, criterion='log_loss',\n",
       "                       max_depth=10, n_estimators=200)"
      ]
     },
     "execution_count": 16,
     "metadata": {},
     "output_type": "execute_result"
    }
   ],
   "source": [
    "from sklearn.ensemble import RandomForestClassifier\n",
    "\n",
    "rf = RandomForestClassifier(\n",
    "    n_estimators=200, \n",
    "    criterion='log_loss', \n",
    "    bootstrap=True,\n",
    "    max_depth=10,\n",
    "    class_weight={True: 10, False: 1}\n",
    "    )\n",
    "rf.fit(x_train_features, y_train_bool)\n",
    "# rf.fit(x_over, y_over)"
   ]
  },
  {
   "cell_type": "code",
   "execution_count": 14,
   "metadata": {},
   "outputs": [
    {
     "name": "stdout",
     "output_type": "stream",
     "text": [
      "              precision    recall  f1-score   support\n",
      "\n",
      "     no risk       0.99      0.44      0.61     63323\n",
      "        risk       0.26      0.97      0.41     12790\n",
      "\n",
      "    accuracy                           0.53     76113\n",
      "   macro avg       0.62      0.71      0.51     76113\n",
      "weighted avg       0.87      0.53      0.58     76113\n",
      "\n"
     ]
    }
   ],
   "source": [
    "from sklearn.metrics import classification_report\n",
    "\n",
    "y_pred = rf.predict(x_train_features)\n",
    "target_names = ['no risk', 'risk']\n",
    "print(classification_report(y_train_bool, y_pred, target_names = target_names))"
   ]
  },
  {
   "cell_type": "code",
   "execution_count": 15,
   "metadata": {},
   "outputs": [
    {
     "name": "stdout",
     "output_type": "stream",
     "text": [
      "              precision    recall  f1-score   support\n",
      "\n",
      "     no risk       0.91      0.41      0.56     21102\n",
      "        risk       0.21      0.79      0.34      4267\n",
      "\n",
      "    accuracy                           0.47     25369\n",
      "   macro avg       0.56      0.60      0.45     25369\n",
      "weighted avg       0.79      0.47      0.53     25369\n",
      "\n"
     ]
    }
   ],
   "source": [
    "y_pred = rf.predict(x_valid_features)\n",
    "target_names = ['no risk', 'risk']\n",
    "\n",
    "print(classification_report(y_valid_bool, y_pred, target_names = target_names))"
   ]
  },
  {
   "cell_type": "markdown",
   "metadata": {},
   "source": [
    "### 2. LightGBM"
   ]
  },
  {
   "cell_type": "code",
   "execution_count": 43,
   "metadata": {},
   "outputs": [
    {
     "name": "stdout",
     "output_type": "stream",
     "text": [
      "[LightGBM] [Warning] early_stopping_round is set=100, early_stopping_rounds=100 will be ignored. Current value: early_stopping_round=100\n",
      "[1]\ttraining's binary_logloss: 0.627733\n",
      "[2]\ttraining's binary_logloss: 0.621718\n",
      "[3]\ttraining's binary_logloss: 0.616827\n",
      "[4]\ttraining's binary_logloss: 0.612504\n",
      "[5]\ttraining's binary_logloss: 0.609019\n",
      "[6]\ttraining's binary_logloss: 0.605886\n",
      "[7]\ttraining's binary_logloss: 0.603092\n",
      "[8]\ttraining's binary_logloss: 0.600786\n",
      "[9]\ttraining's binary_logloss: 0.59865\n",
      "[10]\ttraining's binary_logloss: 0.596648\n",
      "[11]\ttraining's binary_logloss: 0.594737\n",
      "[12]\ttraining's binary_logloss: 0.593277\n",
      "[13]\ttraining's binary_logloss: 0.591911\n",
      "[14]\ttraining's binary_logloss: 0.590619\n",
      "[15]\ttraining's binary_logloss: 0.589417\n",
      "[16]\ttraining's binary_logloss: 0.588205\n",
      "[17]\ttraining's binary_logloss: 0.587123\n",
      "[18]\ttraining's binary_logloss: 0.585994\n",
      "[19]\ttraining's binary_logloss: 0.585078\n",
      "[20]\ttraining's binary_logloss: 0.584241\n",
      "[21]\ttraining's binary_logloss: 0.58342\n",
      "[22]\ttraining's binary_logloss: 0.58264\n",
      "[23]\ttraining's binary_logloss: 0.581768\n",
      "[24]\ttraining's binary_logloss: 0.581081\n",
      "[25]\ttraining's binary_logloss: 0.580221\n",
      "[26]\ttraining's binary_logloss: 0.579415\n",
      "[27]\ttraining's binary_logloss: 0.578659\n",
      "[28]\ttraining's binary_logloss: 0.577926\n",
      "[29]\ttraining's binary_logloss: 0.577237\n",
      "[30]\ttraining's binary_logloss: 0.576609\n",
      "[31]\ttraining's binary_logloss: 0.576005\n",
      "[32]\ttraining's binary_logloss: 0.575428\n",
      "[33]\ttraining's binary_logloss: 0.574927\n",
      "[34]\ttraining's binary_logloss: 0.574406\n",
      "[35]\ttraining's binary_logloss: 0.573845\n",
      "[36]\ttraining's binary_logloss: 0.573321\n",
      "[37]\ttraining's binary_logloss: 0.572831\n",
      "[38]\ttraining's binary_logloss: 0.572263\n",
      "[39]\ttraining's binary_logloss: 0.571698\n",
      "[40]\ttraining's binary_logloss: 0.57122\n",
      "[41]\ttraining's binary_logloss: 0.570755\n",
      "[42]\ttraining's binary_logloss: 0.570257\n",
      "[43]\ttraining's binary_logloss: 0.569816\n",
      "[44]\ttraining's binary_logloss: 0.569377\n",
      "[45]\ttraining's binary_logloss: 0.56895\n",
      "[46]\ttraining's binary_logloss: 0.568473\n",
      "[47]\ttraining's binary_logloss: 0.567937\n",
      "[48]\ttraining's binary_logloss: 0.567548\n",
      "[49]\ttraining's binary_logloss: 0.56717\n",
      "[50]\ttraining's binary_logloss: 0.566761\n",
      "[51]\ttraining's binary_logloss: 0.566386\n",
      "[52]\ttraining's binary_logloss: 0.566018\n",
      "[53]\ttraining's binary_logloss: 0.565572\n",
      "[54]\ttraining's binary_logloss: 0.565198\n",
      "[55]\ttraining's binary_logloss: 0.564847\n",
      "[56]\ttraining's binary_logloss: 0.564485\n",
      "[57]\ttraining's binary_logloss: 0.564165\n",
      "[58]\ttraining's binary_logloss: 0.563875\n",
      "[59]\ttraining's binary_logloss: 0.563451\n",
      "[60]\ttraining's binary_logloss: 0.563115\n",
      "[61]\ttraining's binary_logloss: 0.562792\n",
      "[62]\ttraining's binary_logloss: 0.562405\n",
      "[63]\ttraining's binary_logloss: 0.562009\n",
      "[64]\ttraining's binary_logloss: 0.561651\n",
      "[65]\ttraining's binary_logloss: 0.561299\n",
      "[66]\ttraining's binary_logloss: 0.56094\n",
      "[67]\ttraining's binary_logloss: 0.560657\n",
      "[68]\ttraining's binary_logloss: 0.560289\n",
      "[69]\ttraining's binary_logloss: 0.559931\n",
      "[70]\ttraining's binary_logloss: 0.559576\n",
      "[71]\ttraining's binary_logloss: 0.559183\n",
      "[72]\ttraining's binary_logloss: 0.558894\n",
      "[73]\ttraining's binary_logloss: 0.558585\n",
      "[74]\ttraining's binary_logloss: 0.558284\n",
      "[75]\ttraining's binary_logloss: 0.558031\n",
      "[76]\ttraining's binary_logloss: 0.557724\n",
      "[77]\ttraining's binary_logloss: 0.557395\n",
      "[78]\ttraining's binary_logloss: 0.557086\n",
      "[79]\ttraining's binary_logloss: 0.556881\n",
      "[80]\ttraining's binary_logloss: 0.556588\n",
      "[81]\ttraining's binary_logloss: 0.556212\n",
      "[82]\ttraining's binary_logloss: 0.555962\n",
      "[83]\ttraining's binary_logloss: 0.555624\n",
      "[84]\ttraining's binary_logloss: 0.555252\n",
      "[85]\ttraining's binary_logloss: 0.555015\n",
      "[86]\ttraining's binary_logloss: 0.554638\n",
      "[87]\ttraining's binary_logloss: 0.554315\n",
      "[88]\ttraining's binary_logloss: 0.55395\n",
      "[89]\ttraining's binary_logloss: 0.553649\n",
      "[90]\ttraining's binary_logloss: 0.55332\n",
      "[91]\ttraining's binary_logloss: 0.553094\n",
      "[92]\ttraining's binary_logloss: 0.55277\n",
      "[93]\ttraining's binary_logloss: 0.552499\n",
      "[94]\ttraining's binary_logloss: 0.552257\n",
      "[95]\ttraining's binary_logloss: 0.552003\n",
      "[96]\ttraining's binary_logloss: 0.551701\n",
      "[97]\ttraining's binary_logloss: 0.551428\n",
      "[98]\ttraining's binary_logloss: 0.551163\n",
      "[99]\ttraining's binary_logloss: 0.550809\n",
      "[100]\ttraining's binary_logloss: 0.550536\n",
      "[101]\ttraining's binary_logloss: 0.550239\n",
      "[102]\ttraining's binary_logloss: 0.550036\n",
      "[103]\ttraining's binary_logloss: 0.549677\n",
      "[104]\ttraining's binary_logloss: 0.549481\n",
      "[105]\ttraining's binary_logloss: 0.549288\n",
      "[106]\ttraining's binary_logloss: 0.549031\n",
      "[107]\ttraining's binary_logloss: 0.548777\n",
      "[108]\ttraining's binary_logloss: 0.548484\n",
      "[109]\ttraining's binary_logloss: 0.548147\n",
      "[110]\ttraining's binary_logloss: 0.547923\n",
      "[111]\ttraining's binary_logloss: 0.547561\n",
      "[112]\ttraining's binary_logloss: 0.547221\n",
      "[113]\ttraining's binary_logloss: 0.546893\n",
      "[114]\ttraining's binary_logloss: 0.546597\n",
      "[115]\ttraining's binary_logloss: 0.54637\n",
      "[116]\ttraining's binary_logloss: 0.546132\n",
      "[117]\ttraining's binary_logloss: 0.545902\n",
      "[118]\ttraining's binary_logloss: 0.545649\n",
      "[119]\ttraining's binary_logloss: 0.545359\n",
      "[120]\ttraining's binary_logloss: 0.545203\n",
      "[121]\ttraining's binary_logloss: 0.544858\n",
      "[122]\ttraining's binary_logloss: 0.544634\n",
      "[123]\ttraining's binary_logloss: 0.54441\n",
      "[124]\ttraining's binary_logloss: 0.544134\n",
      "[125]\ttraining's binary_logloss: 0.543881\n",
      "[126]\ttraining's binary_logloss: 0.543722\n",
      "[127]\ttraining's binary_logloss: 0.543441\n",
      "[128]\ttraining's binary_logloss: 0.543101\n",
      "[129]\ttraining's binary_logloss: 0.54284\n",
      "[130]\ttraining's binary_logloss: 0.54254\n",
      "[131]\ttraining's binary_logloss: 0.542315\n",
      "[132]\ttraining's binary_logloss: 0.542088\n",
      "[133]\ttraining's binary_logloss: 0.541854\n",
      "[134]\ttraining's binary_logloss: 0.541567\n",
      "[135]\ttraining's binary_logloss: 0.541267\n",
      "[136]\ttraining's binary_logloss: 0.541037\n",
      "[137]\ttraining's binary_logloss: 0.540828\n",
      "[138]\ttraining's binary_logloss: 0.540591\n",
      "[139]\ttraining's binary_logloss: 0.54032\n",
      "[140]\ttraining's binary_logloss: 0.540145\n",
      "[141]\ttraining's binary_logloss: 0.539833\n",
      "[142]\ttraining's binary_logloss: 0.539565\n",
      "[143]\ttraining's binary_logloss: 0.539235\n",
      "[144]\ttraining's binary_logloss: 0.539024\n",
      "[145]\ttraining's binary_logloss: 0.538683\n",
      "[146]\ttraining's binary_logloss: 0.538397\n",
      "[147]\ttraining's binary_logloss: 0.538157\n",
      "[148]\ttraining's binary_logloss: 0.537894\n",
      "[149]\ttraining's binary_logloss: 0.537624\n",
      "[150]\ttraining's binary_logloss: 0.53738\n",
      "[151]\ttraining's binary_logloss: 0.537181\n",
      "[152]\ttraining's binary_logloss: 0.536974\n",
      "[153]\ttraining's binary_logloss: 0.536725\n",
      "[154]\ttraining's binary_logloss: 0.536508\n",
      "[155]\ttraining's binary_logloss: 0.536346\n",
      "[156]\ttraining's binary_logloss: 0.536113\n",
      "[157]\ttraining's binary_logloss: 0.53589\n",
      "[158]\ttraining's binary_logloss: 0.535664\n",
      "[159]\ttraining's binary_logloss: 0.535519\n",
      "[160]\ttraining's binary_logloss: 0.53525\n",
      "[161]\ttraining's binary_logloss: 0.534955\n",
      "[162]\ttraining's binary_logloss: 0.53476\n",
      "[163]\ttraining's binary_logloss: 0.534513\n",
      "[164]\ttraining's binary_logloss: 0.534271\n",
      "[165]\ttraining's binary_logloss: 0.534099\n",
      "[166]\ttraining's binary_logloss: 0.533907\n",
      "[167]\ttraining's binary_logloss: 0.53369\n",
      "[168]\ttraining's binary_logloss: 0.533451\n",
      "[169]\ttraining's binary_logloss: 0.533176\n",
      "[170]\ttraining's binary_logloss: 0.532932\n",
      "[171]\ttraining's binary_logloss: 0.532618\n",
      "[172]\ttraining's binary_logloss: 0.532315\n",
      "[173]\ttraining's binary_logloss: 0.532067\n",
      "[174]\ttraining's binary_logloss: 0.531787\n",
      "[175]\ttraining's binary_logloss: 0.531594\n",
      "[176]\ttraining's binary_logloss: 0.531382\n",
      "[177]\ttraining's binary_logloss: 0.531233\n",
      "[178]\ttraining's binary_logloss: 0.530768\n",
      "[179]\ttraining's binary_logloss: 0.530541\n",
      "[180]\ttraining's binary_logloss: 0.530255\n",
      "[181]\ttraining's binary_logloss: 0.529961\n",
      "[182]\ttraining's binary_logloss: 0.529592\n",
      "[183]\ttraining's binary_logloss: 0.52946\n",
      "[184]\ttraining's binary_logloss: 0.529223\n",
      "[185]\ttraining's binary_logloss: 0.528844\n",
      "[186]\ttraining's binary_logloss: 0.528706\n",
      "[187]\ttraining's binary_logloss: 0.528514\n",
      "[188]\ttraining's binary_logloss: 0.528299\n",
      "[189]\ttraining's binary_logloss: 0.528059\n",
      "[190]\ttraining's binary_logloss: 0.52772\n",
      "[191]\ttraining's binary_logloss: 0.527561\n",
      "[192]\ttraining's binary_logloss: 0.527375\n",
      "[193]\ttraining's binary_logloss: 0.527134\n",
      "[194]\ttraining's binary_logloss: 0.526876\n",
      "[195]\ttraining's binary_logloss: 0.526599\n",
      "[196]\ttraining's binary_logloss: 0.526357\n",
      "[197]\ttraining's binary_logloss: 0.52611\n",
      "[198]\ttraining's binary_logloss: 0.525772\n",
      "[199]\ttraining's binary_logloss: 0.525575\n",
      "[200]\ttraining's binary_logloss: 0.525321\n"
     ]
    }
   ],
   "source": [
    "import lightgbm as LightGBM\n",
    "\n",
    "lgbm = LightGBM.LGBMClassifier(early_stopping_rounds=100,\n",
    "                               reg_lambda = 0.2, \n",
    "                               n_estimators=200,\n",
    "                               max_depth = 20,\n",
    "                               class_weight={True: 10, False: 1}\n",
    "                              ) \n",
    "\n",
    "evals = [(x_train_features, y_train_bool)]\n",
    "lgbm.fit(x_train_features, y_train_bool, eval_metric='logloss', eval_set=evals)\n",
    "y_pred = lgbm.predict(x_train_features)"
   ]
  },
  {
   "cell_type": "code",
   "execution_count": 44,
   "metadata": {},
   "outputs": [
    {
     "name": "stdout",
     "output_type": "stream",
     "text": [
      "              precision    recall  f1-score   support\n",
      "\n",
      "     no risk       0.98      0.33      0.49     63323\n",
      "        risk       0.23      0.97      0.37     12790\n",
      "\n",
      "    accuracy                           0.44     76113\n",
      "   macro avg       0.60      0.65      0.43     76113\n",
      "weighted avg       0.85      0.44      0.47     76113\n",
      "\n"
     ]
    }
   ],
   "source": [
    "from sklearn.metrics import classification_report\n",
    "\n",
    "y = lgbm.predict(x_train_features)\n",
    "target_names = ['no risk', 'risk']\n",
    "\n",
    "print(classification_report(y_train_bool, y, target_names=target_names))"
   ]
  },
  {
   "cell_type": "code",
   "execution_count": 45,
   "metadata": {},
   "outputs": [
    {
     "name": "stdout",
     "output_type": "stream",
     "text": [
      "              precision    recall  f1-score   support\n",
      "\n",
      "     no risk       0.93      0.32      0.47     21102\n",
      "        risk       0.21      0.87      0.33      4267\n",
      "\n",
      "    accuracy                           0.41     25369\n",
      "   macro avg       0.57      0.60      0.40     25369\n",
      "weighted avg       0.80      0.41      0.45     25369\n",
      "\n"
     ]
    }
   ],
   "source": [
    "from sklearn.metrics import classification_report\n",
    "\n",
    "y = lgbm.predict(x_valid_features)\n",
    "target_names = ['no risk', 'risk']\n",
    "\n",
    "print(classification_report(y_valid_bool, y, target_names=target_names))"
   ]
  }
 ],
 "metadata": {
  "kernelspec": {
   "display_name": "Python 3.10.1 64-bit",
   "language": "python",
   "name": "python3"
  },
  "language_info": {
   "codemirror_mode": {
    "name": "ipython",
    "version": 3
   },
   "file_extension": ".py",
   "mimetype": "text/x-python",
   "name": "python",
   "nbconvert_exporter": "python",
   "pygments_lexer": "ipython3",
   "version": "3.10.1"
  },
  "orig_nbformat": 4,
  "vscode": {
   "interpreter": {
    "hash": "9dc4a390a9b2827902a4747c64ce7fc589728c7a1b50ebf341cedb4beb3b25a3"
   }
  }
 },
 "nbformat": 4,
 "nbformat_minor": 2
}
