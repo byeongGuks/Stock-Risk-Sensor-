{
 "cells": [
  {
   "cell_type": "code",
   "execution_count": null,
   "metadata": {},
   "outputs": [],
   "source": [
    "import pandas as pd\n",
    "import numpy as np\n",
    "import matplotlib.pyplot as plt\n",
    "import seaborn as sns\n"
   ]
  },
  {
   "cell_type": "code",
   "execution_count": null,
   "metadata": {},
   "outputs": [],
   "source": [
    "x_train = pd.read_csv('./data/track1/features/x_train_normal.csv')\n",
    "x_valid = pd.read_csv('./data/track1/features/x_valid_normal.csv')\n",
    "x_test = pd.read_csv('./data/track1/features/x_test_normal.csv')\n",
    "y_train = pd.read_csv('./data/track1/features/y_train_normal.csv')\n",
    "y_valid = pd.read_csv('./data/track1/features/y_valid_normal.csv')\n",
    "y_test = pd.read_csv('./data/track1/features/y_test_normal.csv')"
   ]
  }
 ],
 "metadata": {
  "kernelspec": {
   "display_name": "Python 3.10.1 64-bit",
   "language": "python",
   "name": "python3"
  },
  "language_info": {
   "name": "python",
   "version": "3.10.1"
  },
  "orig_nbformat": 4,
  "vscode": {
   "interpreter": {
    "hash": "9dc4a390a9b2827902a4747c64ce7fc589728c7a1b50ebf341cedb4beb3b25a3"
   }
  }
 },
 "nbformat": 4,
 "nbformat_minor": 2
}
