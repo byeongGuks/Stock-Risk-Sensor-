{
 "cells": [
  {
   "cell_type": "code",
   "execution_count": 1,
   "metadata": {},
   "outputs": [],
   "source": [
    "import pandas as pd\n",
    "import numpy as np\n",
    "import matplotlib.pyplot as plt\n",
    "import seaborn as sns\n"
   ]
  },
  {
   "cell_type": "code",
   "execution_count": 12,
   "metadata": {},
   "outputs": [],
   "source": [
    "null_values = ['?', '??', 'N/A', 'NA', 'nan', 'NaN', '-nan', '-NaN', 'null', '-']\n",
    "x_train = pd.read_csv('./data/track1/features/x_train_normal.csv', na_values = null_values)\n",
    "x_valid = pd.read_csv('./data/track1/features/x_valid_normal.csv', na_values = null_values)\n",
    "x_test = pd.read_csv('./data/track1/features/x_test_normal.csv', na_values = null_values)\n",
    "y_train = pd.read_csv('./data/track1/features/y_train_normal.csv', na_values = null_values)\n",
    "y_valid = pd.read_csv('./data/track1/features/y_valid_normal.csv', na_values = null_values)\n",
    "y_test = pd.read_csv('./data/track1/features/y_test_normal.csv', na_values = null_values)"
   ]
  },
  {
   "cell_type": "code",
   "execution_count": 13,
   "metadata": {},
   "outputs": [],
   "source": [
    "x_train_features = x_train.drop(columns=['날짜', 'CODE'], inplace=False)\n",
    "x_valid_features = x_valid.drop(columns=['날짜', 'CODE'], inplace=False)\n",
    "x_test_features = x_test.drop(columns=['날짜', 'CODE'], inplace=False)\n",
    "y_train_bool = y_train['Y'] <-2.0\n",
    "y_valid_bool = y_valid['Y'] <-2.0\n",
    "y_test_bool = y_test['Y'] <-2.0"
   ]
  },
  {
   "cell_type": "code",
   "execution_count": 15,
   "metadata": {},
   "outputs": [
    {
     "data": {
      "text/plain": [
       "-0.012279785211688932"
      ]
     },
     "execution_count": 15,
     "metadata": {},
     "output_type": "execute_result"
    }
   ],
   "source": [
    "x_train_features['시가총액'].mean()"
   ]
  },
  {
   "cell_type": "markdown",
   "metadata": {},
   "source": [
    "### 1. Decision Tree"
   ]
  },
  {
   "cell_type": "code",
   "execution_count": 7,
   "metadata": {},
   "outputs": [
    {
     "data": {
      "text/html": [
       "<style>#sk-container-id-1 {color: black;background-color: white;}#sk-container-id-1 pre{padding: 0;}#sk-container-id-1 div.sk-toggleable {background-color: white;}#sk-container-id-1 label.sk-toggleable__label {cursor: pointer;display: block;width: 100%;margin-bottom: 0;padding: 0.3em;box-sizing: border-box;text-align: center;}#sk-container-id-1 label.sk-toggleable__label-arrow:before {content: \"▸\";float: left;margin-right: 0.25em;color: #696969;}#sk-container-id-1 label.sk-toggleable__label-arrow:hover:before {color: black;}#sk-container-id-1 div.sk-estimator:hover label.sk-toggleable__label-arrow:before {color: black;}#sk-container-id-1 div.sk-toggleable__content {max-height: 0;max-width: 0;overflow: hidden;text-align: left;background-color: #f0f8ff;}#sk-container-id-1 div.sk-toggleable__content pre {margin: 0.2em;color: black;border-radius: 0.25em;background-color: #f0f8ff;}#sk-container-id-1 input.sk-toggleable__control:checked~div.sk-toggleable__content {max-height: 200px;max-width: 100%;overflow: auto;}#sk-container-id-1 input.sk-toggleable__control:checked~label.sk-toggleable__label-arrow:before {content: \"▾\";}#sk-container-id-1 div.sk-estimator input.sk-toggleable__control:checked~label.sk-toggleable__label {background-color: #d4ebff;}#sk-container-id-1 div.sk-label input.sk-toggleable__control:checked~label.sk-toggleable__label {background-color: #d4ebff;}#sk-container-id-1 input.sk-hidden--visually {border: 0;clip: rect(1px 1px 1px 1px);clip: rect(1px, 1px, 1px, 1px);height: 1px;margin: -1px;overflow: hidden;padding: 0;position: absolute;width: 1px;}#sk-container-id-1 div.sk-estimator {font-family: monospace;background-color: #f0f8ff;border: 1px dotted black;border-radius: 0.25em;box-sizing: border-box;margin-bottom: 0.5em;}#sk-container-id-1 div.sk-estimator:hover {background-color: #d4ebff;}#sk-container-id-1 div.sk-parallel-item::after {content: \"\";width: 100%;border-bottom: 1px solid gray;flex-grow: 1;}#sk-container-id-1 div.sk-label:hover label.sk-toggleable__label {background-color: #d4ebff;}#sk-container-id-1 div.sk-serial::before {content: \"\";position: absolute;border-left: 1px solid gray;box-sizing: border-box;top: 0;bottom: 0;left: 50%;z-index: 0;}#sk-container-id-1 div.sk-serial {display: flex;flex-direction: column;align-items: center;background-color: white;padding-right: 0.2em;padding-left: 0.2em;position: relative;}#sk-container-id-1 div.sk-item {position: relative;z-index: 1;}#sk-container-id-1 div.sk-parallel {display: flex;align-items: stretch;justify-content: center;background-color: white;position: relative;}#sk-container-id-1 div.sk-item::before, #sk-container-id-1 div.sk-parallel-item::before {content: \"\";position: absolute;border-left: 1px solid gray;box-sizing: border-box;top: 0;bottom: 0;left: 50%;z-index: -1;}#sk-container-id-1 div.sk-parallel-item {display: flex;flex-direction: column;z-index: 1;position: relative;background-color: white;}#sk-container-id-1 div.sk-parallel-item:first-child::after {align-self: flex-end;width: 50%;}#sk-container-id-1 div.sk-parallel-item:last-child::after {align-self: flex-start;width: 50%;}#sk-container-id-1 div.sk-parallel-item:only-child::after {width: 0;}#sk-container-id-1 div.sk-dashed-wrapped {border: 1px dashed gray;margin: 0 0.4em 0.5em 0.4em;box-sizing: border-box;padding-bottom: 0.4em;background-color: white;}#sk-container-id-1 div.sk-label label {font-family: monospace;font-weight: bold;display: inline-block;line-height: 1.2em;}#sk-container-id-1 div.sk-label-container {text-align: center;}#sk-container-id-1 div.sk-container {/* jupyter's `normalize.less` sets `[hidden] { display: none; }` but bootstrap.min.css set `[hidden] { display: none !important; }` so we also need the `!important` here to be able to override the default hidden behavior on the sphinx rendered scikit-learn.org. See: https://github.com/scikit-learn/scikit-learn/issues/21755 */display: inline-block !important;position: relative;}#sk-container-id-1 div.sk-text-repr-fallback {display: none;}</style><div id=\"sk-container-id-1\" class=\"sk-top-container\"><div class=\"sk-text-repr-fallback\"><pre>DecisionTreeClassifier(class_weight={False: 1, True: 10}, max_depth=10,\n",
       "                       min_samples_split=5)</pre><b>In a Jupyter environment, please rerun this cell to show the HTML representation or trust the notebook. <br />On GitHub, the HTML representation is unable to render, please try loading this page with nbviewer.org.</b></div><div class=\"sk-container\" hidden><div class=\"sk-item\"><div class=\"sk-estimator sk-toggleable\"><input class=\"sk-toggleable__control sk-hidden--visually\" id=\"sk-estimator-id-1\" type=\"checkbox\" checked><label for=\"sk-estimator-id-1\" class=\"sk-toggleable__label sk-toggleable__label-arrow\">DecisionTreeClassifier</label><div class=\"sk-toggleable__content\"><pre>DecisionTreeClassifier(class_weight={False: 1, True: 10}, max_depth=10,\n",
       "                       min_samples_split=5)</pre></div></div></div></div></div>"
      ],
      "text/plain": [
       "DecisionTreeClassifier(class_weight={False: 1, True: 10}, max_depth=10,\n",
       "                       min_samples_split=5)"
      ]
     },
     "execution_count": 7,
     "metadata": {},
     "output_type": "execute_result"
    }
   ],
   "source": [
    "from sklearn import tree\n",
    "decisionTree = tree.DecisionTreeClassifier(\n",
    "    max_depth=10,\n",
    "    min_samples_split=5,\n",
    "    class_weight={True: 10, False: 1}\n",
    ")\n",
    "decisionTree.fit(x_train_features, y_train_bool)"
   ]
  },
  {
   "cell_type": "code",
   "execution_count": 8,
   "metadata": {},
   "outputs": [
    {
     "name": "stdout",
     "output_type": "stream",
     "text": [
      "              precision    recall  f1-score   support\n",
      "\n",
      "     no risk       0.96      0.28      0.43     63323\n",
      "        risk       0.21      0.94      0.34     12790\n",
      "\n",
      "    accuracy                           0.39     76113\n",
      "   macro avg       0.58      0.61      0.39     76113\n",
      "weighted avg       0.83      0.39      0.41     76113\n",
      "\n"
     ]
    }
   ],
   "source": [
    "from sklearn.metrics import classification_report\n",
    "\n",
    "y_pred = decisionTree.predict(x_train_features)\n",
    "target_names = ['no risk', 'risk']\n",
    "print(classification_report(y_train_bool, y_pred, target_names = target_names))"
   ]
  },
  {
   "cell_type": "code",
   "execution_count": 9,
   "metadata": {},
   "outputs": [
    {
     "name": "stdout",
     "output_type": "stream",
     "text": [
      "              precision    recall  f1-score   support\n",
      "\n",
      "     no risk       0.91      0.26      0.41     21025\n",
      "        risk       0.20      0.88      0.32      4329\n",
      "\n",
      "    accuracy                           0.37     25354\n",
      "   macro avg       0.55      0.57      0.37     25354\n",
      "weighted avg       0.79      0.37      0.39     25354\n",
      "\n"
     ]
    }
   ],
   "source": [
    "from sklearn.metrics import classification_report\n",
    "\n",
    "y_pred = decisionTree.predict(x_valid_features)\n",
    "target_names = ['no risk', 'risk']\n",
    "print(classification_report(y_valid_bool, y_pred, target_names = target_names))"
   ]
  },
  {
   "cell_type": "markdown",
   "metadata": {},
   "source": [
    "### 2. Random Forest "
   ]
  },
  {
   "cell_type": "code",
   "execution_count": 5,
   "metadata": {},
   "outputs": [
    {
     "data": {
      "text/plain": [
       "Y    \n",
       "False    63323\n",
       "True     63323\n",
       "dtype: int64"
      ]
     },
     "execution_count": 5,
     "metadata": {},
     "output_type": "execute_result"
    }
   ],
   "source": [
    "from imblearn.over_sampling import RandomOverSampler\n",
    "from collections import Counter\n",
    "\n",
    "oversample = RandomOverSampler(random_state = 42)\n",
    "x_over, y_over = oversample.fit_resample(x_train_features, y_train_bool)\n",
    "pd.DataFrame(y_over).value_counts()"
   ]
  },
  {
   "cell_type": "code",
   "execution_count": 22,
   "metadata": {},
   "outputs": [
    {
     "data": {
      "text/html": [
       "<style>#sk-container-id-6 {color: black;background-color: white;}#sk-container-id-6 pre{padding: 0;}#sk-container-id-6 div.sk-toggleable {background-color: white;}#sk-container-id-6 label.sk-toggleable__label {cursor: pointer;display: block;width: 100%;margin-bottom: 0;padding: 0.3em;box-sizing: border-box;text-align: center;}#sk-container-id-6 label.sk-toggleable__label-arrow:before {content: \"▸\";float: left;margin-right: 0.25em;color: #696969;}#sk-container-id-6 label.sk-toggleable__label-arrow:hover:before {color: black;}#sk-container-id-6 div.sk-estimator:hover label.sk-toggleable__label-arrow:before {color: black;}#sk-container-id-6 div.sk-toggleable__content {max-height: 0;max-width: 0;overflow: hidden;text-align: left;background-color: #f0f8ff;}#sk-container-id-6 div.sk-toggleable__content pre {margin: 0.2em;color: black;border-radius: 0.25em;background-color: #f0f8ff;}#sk-container-id-6 input.sk-toggleable__control:checked~div.sk-toggleable__content {max-height: 200px;max-width: 100%;overflow: auto;}#sk-container-id-6 input.sk-toggleable__control:checked~label.sk-toggleable__label-arrow:before {content: \"▾\";}#sk-container-id-6 div.sk-estimator input.sk-toggleable__control:checked~label.sk-toggleable__label {background-color: #d4ebff;}#sk-container-id-6 div.sk-label input.sk-toggleable__control:checked~label.sk-toggleable__label {background-color: #d4ebff;}#sk-container-id-6 input.sk-hidden--visually {border: 0;clip: rect(1px 1px 1px 1px);clip: rect(1px, 1px, 1px, 1px);height: 1px;margin: -1px;overflow: hidden;padding: 0;position: absolute;width: 1px;}#sk-container-id-6 div.sk-estimator {font-family: monospace;background-color: #f0f8ff;border: 1px dotted black;border-radius: 0.25em;box-sizing: border-box;margin-bottom: 0.5em;}#sk-container-id-6 div.sk-estimator:hover {background-color: #d4ebff;}#sk-container-id-6 div.sk-parallel-item::after {content: \"\";width: 100%;border-bottom: 1px solid gray;flex-grow: 1;}#sk-container-id-6 div.sk-label:hover label.sk-toggleable__label {background-color: #d4ebff;}#sk-container-id-6 div.sk-serial::before {content: \"\";position: absolute;border-left: 1px solid gray;box-sizing: border-box;top: 0;bottom: 0;left: 50%;z-index: 0;}#sk-container-id-6 div.sk-serial {display: flex;flex-direction: column;align-items: center;background-color: white;padding-right: 0.2em;padding-left: 0.2em;position: relative;}#sk-container-id-6 div.sk-item {position: relative;z-index: 1;}#sk-container-id-6 div.sk-parallel {display: flex;align-items: stretch;justify-content: center;background-color: white;position: relative;}#sk-container-id-6 div.sk-item::before, #sk-container-id-6 div.sk-parallel-item::before {content: \"\";position: absolute;border-left: 1px solid gray;box-sizing: border-box;top: 0;bottom: 0;left: 50%;z-index: -1;}#sk-container-id-6 div.sk-parallel-item {display: flex;flex-direction: column;z-index: 1;position: relative;background-color: white;}#sk-container-id-6 div.sk-parallel-item:first-child::after {align-self: flex-end;width: 50%;}#sk-container-id-6 div.sk-parallel-item:last-child::after {align-self: flex-start;width: 50%;}#sk-container-id-6 div.sk-parallel-item:only-child::after {width: 0;}#sk-container-id-6 div.sk-dashed-wrapped {border: 1px dashed gray;margin: 0 0.4em 0.5em 0.4em;box-sizing: border-box;padding-bottom: 0.4em;background-color: white;}#sk-container-id-6 div.sk-label label {font-family: monospace;font-weight: bold;display: inline-block;line-height: 1.2em;}#sk-container-id-6 div.sk-label-container {text-align: center;}#sk-container-id-6 div.sk-container {/* jupyter's `normalize.less` sets `[hidden] { display: none; }` but bootstrap.min.css set `[hidden] { display: none !important; }` so we also need the `!important` here to be able to override the default hidden behavior on the sphinx rendered scikit-learn.org. See: https://github.com/scikit-learn/scikit-learn/issues/21755 */display: inline-block !important;position: relative;}#sk-container-id-6 div.sk-text-repr-fallback {display: none;}</style><div id=\"sk-container-id-6\" class=\"sk-top-container\"><div class=\"sk-text-repr-fallback\"><pre>RandomForestClassifier(class_weight={False: 1, True: 10}, criterion=&#x27;log_loss&#x27;,\n",
       "                       max_depth=10, min_samples_split=10, n_estimators=200)</pre><b>In a Jupyter environment, please rerun this cell to show the HTML representation or trust the notebook. <br />On GitHub, the HTML representation is unable to render, please try loading this page with nbviewer.org.</b></div><div class=\"sk-container\" hidden><div class=\"sk-item\"><div class=\"sk-estimator sk-toggleable\"><input class=\"sk-toggleable__control sk-hidden--visually\" id=\"sk-estimator-id-6\" type=\"checkbox\" checked><label for=\"sk-estimator-id-6\" class=\"sk-toggleable__label sk-toggleable__label-arrow\">RandomForestClassifier</label><div class=\"sk-toggleable__content\"><pre>RandomForestClassifier(class_weight={False: 1, True: 10}, criterion=&#x27;log_loss&#x27;,\n",
       "                       max_depth=10, min_samples_split=10, n_estimators=200)</pre></div></div></div></div></div>"
      ],
      "text/plain": [
       "RandomForestClassifier(class_weight={False: 1, True: 10}, criterion='log_loss',\n",
       "                       max_depth=10, min_samples_split=10, n_estimators=200)"
      ]
     },
     "execution_count": 22,
     "metadata": {},
     "output_type": "execute_result"
    }
   ],
   "source": [
    "from sklearn.ensemble import RandomForestClassifier\n",
    "\n",
    "rf = RandomForestClassifier(\n",
    "    n_estimators=200, \n",
    "    criterion='log_loss', \n",
    "    min_samples_split = 10,\n",
    "    bootstrap=True,\n",
    "    max_depth=10,\n",
    "    class_weight={True: 10, False: 1}\n",
    "    )\n",
    "rf.fit(x_train_features, y_train_bool)\n",
    "# rf.fit(x_over, y_over)"
   ]
  },
  {
   "cell_type": "code",
   "execution_count": 23,
   "metadata": {},
   "outputs": [
    {
     "name": "stdout",
     "output_type": "stream",
     "text": [
      "              precision    recall  f1-score   support\n",
      "\n",
      "     no risk       0.98      0.21      0.34     63323\n",
      "        risk       0.20      0.98      0.33     12790\n",
      "\n",
      "    accuracy                           0.33     76113\n",
      "   macro avg       0.59      0.59      0.33     76113\n",
      "weighted avg       0.85      0.33      0.34     76113\n",
      "\n"
     ]
    }
   ],
   "source": [
    "from sklearn.metrics import classification_report\n",
    "\n",
    "y_pred = rf.predict(x_train_features)\n",
    "target_names = ['no risk', 'risk']\n",
    "print(classification_report(y_train_bool, y_pred, target_names = target_names))"
   ]
  },
  {
   "cell_type": "code",
   "execution_count": 24,
   "metadata": {},
   "outputs": [
    {
     "name": "stdout",
     "output_type": "stream",
     "text": [
      "              precision    recall  f1-score   support\n",
      "\n",
      "     no risk       0.93      0.20      0.33     21025\n",
      "        risk       0.19      0.93      0.32      4329\n",
      "\n",
      "    accuracy                           0.32     25354\n",
      "   macro avg       0.56      0.56      0.32     25354\n",
      "weighted avg       0.81      0.32      0.33     25354\n",
      "\n"
     ]
    }
   ],
   "source": [
    "y_pred = rf.predict(x_valid_features)\n",
    "target_names = ['no risk', 'risk']\n",
    "\n",
    "print(classification_report(y_valid_bool, y_pred, target_names = target_names))"
   ]
  },
  {
   "cell_type": "code",
   "execution_count": 25,
   "metadata": {},
   "outputs": [
    {
     "name": "stdout",
     "output_type": "stream",
     "text": [
      "              precision    recall  f1-score   support\n",
      "\n",
      "     no risk       0.94      0.20      0.33     21093\n",
      "        risk       0.19      0.93      0.32      4266\n",
      "\n",
      "    accuracy                           0.32     25359\n",
      "   macro avg       0.56      0.57      0.32     25359\n",
      "weighted avg       0.81      0.32      0.33     25359\n",
      "\n"
     ]
    }
   ],
   "source": [
    "y_pred = rf.predict(x_test_features)\n",
    "target_names = ['no risk', 'risk']\n",
    "\n",
    "print(classification_report(y_test_bool, y_pred, target_names = target_names))"
   ]
  },
  {
   "cell_type": "markdown",
   "metadata": {},
   "source": [
    "### 2. LightGBM"
   ]
  },
  {
   "cell_type": "code",
   "execution_count": 26,
   "metadata": {},
   "outputs": [
    {
     "name": "stdout",
     "output_type": "stream",
     "text": [
      "[LightGBM] [Warning] early_stopping_round is set=100, early_stopping_rounds=100 will be ignored. Current value: early_stopping_round=100\n",
      "[1]\ttraining's binary_logloss: 0.627573\n",
      "[2]\ttraining's binary_logloss: 0.62186\n",
      "[3]\ttraining's binary_logloss: 0.616436\n",
      "[4]\ttraining's binary_logloss: 0.611959\n",
      "[5]\ttraining's binary_logloss: 0.608186\n",
      "[6]\ttraining's binary_logloss: 0.604946\n",
      "[7]\ttraining's binary_logloss: 0.601911\n",
      "[8]\ttraining's binary_logloss: 0.599425\n",
      "[9]\ttraining's binary_logloss: 0.597111\n",
      "[10]\ttraining's binary_logloss: 0.595081\n",
      "[11]\ttraining's binary_logloss: 0.593307\n",
      "[12]\ttraining's binary_logloss: 0.591474\n",
      "[13]\ttraining's binary_logloss: 0.589972\n",
      "[14]\ttraining's binary_logloss: 0.588516\n",
      "[15]\ttraining's binary_logloss: 0.587134\n",
      "[16]\ttraining's binary_logloss: 0.585925\n",
      "[17]\ttraining's binary_logloss: 0.584636\n",
      "[18]\ttraining's binary_logloss: 0.583419\n",
      "[19]\ttraining's binary_logloss: 0.582342\n",
      "[20]\ttraining's binary_logloss: 0.581361\n",
      "[21]\ttraining's binary_logloss: 0.580444\n",
      "[22]\ttraining's binary_logloss: 0.579447\n",
      "[23]\ttraining's binary_logloss: 0.578487\n",
      "[24]\ttraining's binary_logloss: 0.577626\n",
      "[25]\ttraining's binary_logloss: 0.576724\n",
      "[26]\ttraining's binary_logloss: 0.576057\n",
      "[27]\ttraining's binary_logloss: 0.575254\n",
      "[28]\ttraining's binary_logloss: 0.574582\n",
      "[29]\ttraining's binary_logloss: 0.57383\n",
      "[30]\ttraining's binary_logloss: 0.573175\n",
      "[31]\ttraining's binary_logloss: 0.572463\n",
      "[32]\ttraining's binary_logloss: 0.571773\n",
      "[33]\ttraining's binary_logloss: 0.571181\n",
      "[34]\ttraining's binary_logloss: 0.570568\n",
      "[35]\ttraining's binary_logloss: 0.569986\n",
      "[36]\ttraining's binary_logloss: 0.569346\n",
      "[37]\ttraining's binary_logloss: 0.568743\n",
      "[38]\ttraining's binary_logloss: 0.568206\n",
      "[39]\ttraining's binary_logloss: 0.567704\n",
      "[40]\ttraining's binary_logloss: 0.567203\n",
      "[41]\ttraining's binary_logloss: 0.566721\n",
      "[42]\ttraining's binary_logloss: 0.566213\n",
      "[43]\ttraining's binary_logloss: 0.565745\n",
      "[44]\ttraining's binary_logloss: 0.56525\n",
      "[45]\ttraining's binary_logloss: 0.564787\n",
      "[46]\ttraining's binary_logloss: 0.564254\n",
      "[47]\ttraining's binary_logloss: 0.56376\n",
      "[48]\ttraining's binary_logloss: 0.563381\n",
      "[49]\ttraining's binary_logloss: 0.562978\n",
      "[50]\ttraining's binary_logloss: 0.562565\n",
      "[51]\ttraining's binary_logloss: 0.562166\n",
      "[52]\ttraining's binary_logloss: 0.561749\n",
      "[53]\ttraining's binary_logloss: 0.561366\n",
      "[54]\ttraining's binary_logloss: 0.56095\n",
      "[55]\ttraining's binary_logloss: 0.560519\n",
      "[56]\ttraining's binary_logloss: 0.560067\n",
      "[57]\ttraining's binary_logloss: 0.559599\n",
      "[58]\ttraining's binary_logloss: 0.559168\n",
      "[59]\ttraining's binary_logloss: 0.558799\n",
      "[60]\ttraining's binary_logloss: 0.558412\n",
      "[61]\ttraining's binary_logloss: 0.55796\n",
      "[62]\ttraining's binary_logloss: 0.55763\n",
      "[63]\ttraining's binary_logloss: 0.557218\n",
      "[64]\ttraining's binary_logloss: 0.556785\n",
      "[65]\ttraining's binary_logloss: 0.55642\n",
      "[66]\ttraining's binary_logloss: 0.555989\n",
      "[67]\ttraining's binary_logloss: 0.555676\n",
      "[68]\ttraining's binary_logloss: 0.555288\n",
      "[69]\ttraining's binary_logloss: 0.554883\n",
      "[70]\ttraining's binary_logloss: 0.554562\n",
      "[71]\ttraining's binary_logloss: 0.554218\n",
      "[72]\ttraining's binary_logloss: 0.553884\n",
      "[73]\ttraining's binary_logloss: 0.553531\n",
      "[74]\ttraining's binary_logloss: 0.553195\n",
      "[75]\ttraining's binary_logloss: 0.552896\n",
      "[76]\ttraining's binary_logloss: 0.552552\n",
      "[77]\ttraining's binary_logloss: 0.552207\n",
      "[78]\ttraining's binary_logloss: 0.551832\n",
      "[79]\ttraining's binary_logloss: 0.551518\n",
      "[80]\ttraining's binary_logloss: 0.551198\n",
      "[81]\ttraining's binary_logloss: 0.550831\n",
      "[82]\ttraining's binary_logloss: 0.550558\n",
      "[83]\ttraining's binary_logloss: 0.550178\n",
      "[84]\ttraining's binary_logloss: 0.549839\n",
      "[85]\ttraining's binary_logloss: 0.549517\n",
      "[86]\ttraining's binary_logloss: 0.549184\n",
      "[87]\ttraining's binary_logloss: 0.548933\n",
      "[88]\ttraining's binary_logloss: 0.548558\n",
      "[89]\ttraining's binary_logloss: 0.548319\n",
      "[90]\ttraining's binary_logloss: 0.547972\n",
      "[91]\ttraining's binary_logloss: 0.547694\n",
      "[92]\ttraining's binary_logloss: 0.547358\n",
      "[93]\ttraining's binary_logloss: 0.547091\n",
      "[94]\ttraining's binary_logloss: 0.546749\n",
      "[95]\ttraining's binary_logloss: 0.546478\n",
      "[96]\ttraining's binary_logloss: 0.546176\n",
      "[97]\ttraining's binary_logloss: 0.545861\n",
      "[98]\ttraining's binary_logloss: 0.545548\n",
      "[99]\ttraining's binary_logloss: 0.545328\n",
      "[100]\ttraining's binary_logloss: 0.545056\n",
      "[101]\ttraining's binary_logloss: 0.54474\n",
      "[102]\ttraining's binary_logloss: 0.54447\n",
      "[103]\ttraining's binary_logloss: 0.544156\n",
      "[104]\ttraining's binary_logloss: 0.543837\n",
      "[105]\ttraining's binary_logloss: 0.543613\n",
      "[106]\ttraining's binary_logloss: 0.543372\n",
      "[107]\ttraining's binary_logloss: 0.543031\n",
      "[108]\ttraining's binary_logloss: 0.54269\n",
      "[109]\ttraining's binary_logloss: 0.542396\n",
      "[110]\ttraining's binary_logloss: 0.542158\n",
      "[111]\ttraining's binary_logloss: 0.541876\n",
      "[112]\ttraining's binary_logloss: 0.541648\n",
      "[113]\ttraining's binary_logloss: 0.541342\n",
      "[114]\ttraining's binary_logloss: 0.54104\n",
      "[115]\ttraining's binary_logloss: 0.5407\n",
      "[116]\ttraining's binary_logloss: 0.540465\n",
      "[117]\ttraining's binary_logloss: 0.540134\n",
      "[118]\ttraining's binary_logloss: 0.539787\n",
      "[119]\ttraining's binary_logloss: 0.539583\n",
      "[120]\ttraining's binary_logloss: 0.539255\n",
      "[121]\ttraining's binary_logloss: 0.539058\n",
      "[122]\ttraining's binary_logloss: 0.538827\n",
      "[123]\ttraining's binary_logloss: 0.538569\n",
      "[124]\ttraining's binary_logloss: 0.538268\n",
      "[125]\ttraining's binary_logloss: 0.538026\n",
      "[126]\ttraining's binary_logloss: 0.53776\n",
      "[127]\ttraining's binary_logloss: 0.537528\n",
      "[128]\ttraining's binary_logloss: 0.537282\n",
      "[129]\ttraining's binary_logloss: 0.537023\n",
      "[130]\ttraining's binary_logloss: 0.536739\n",
      "[131]\ttraining's binary_logloss: 0.536526\n",
      "[132]\ttraining's binary_logloss: 0.536321\n",
      "[133]\ttraining's binary_logloss: 0.536128\n",
      "[134]\ttraining's binary_logloss: 0.535931\n",
      "[135]\ttraining's binary_logloss: 0.535698\n",
      "[136]\ttraining's binary_logloss: 0.535449\n",
      "[137]\ttraining's binary_logloss: 0.535143\n",
      "[138]\ttraining's binary_logloss: 0.534817\n",
      "[139]\ttraining's binary_logloss: 0.534478\n",
      "[140]\ttraining's binary_logloss: 0.534304\n",
      "[141]\ttraining's binary_logloss: 0.533866\n",
      "[142]\ttraining's binary_logloss: 0.533524\n",
      "[143]\ttraining's binary_logloss: 0.533204\n",
      "[144]\ttraining's binary_logloss: 0.532939\n",
      "[145]\ttraining's binary_logloss: 0.532759\n",
      "[146]\ttraining's binary_logloss: 0.532499\n",
      "[147]\ttraining's binary_logloss: 0.532133\n",
      "[148]\ttraining's binary_logloss: 0.531851\n",
      "[149]\ttraining's binary_logloss: 0.531563\n",
      "[150]\ttraining's binary_logloss: 0.53135\n",
      "[151]\ttraining's binary_logloss: 0.531083\n",
      "[152]\ttraining's binary_logloss: 0.530854\n",
      "[153]\ttraining's binary_logloss: 0.530648\n",
      "[154]\ttraining's binary_logloss: 0.530357\n",
      "[155]\ttraining's binary_logloss: 0.530082\n",
      "[156]\ttraining's binary_logloss: 0.529915\n",
      "[157]\ttraining's binary_logloss: 0.529716\n",
      "[158]\ttraining's binary_logloss: 0.529463\n",
      "[159]\ttraining's binary_logloss: 0.529136\n",
      "[160]\ttraining's binary_logloss: 0.528812\n",
      "[161]\ttraining's binary_logloss: 0.528641\n",
      "[162]\ttraining's binary_logloss: 0.528402\n",
      "[163]\ttraining's binary_logloss: 0.52812\n",
      "[164]\ttraining's binary_logloss: 0.527946\n",
      "[165]\ttraining's binary_logloss: 0.527612\n",
      "[166]\ttraining's binary_logloss: 0.527366\n",
      "[167]\ttraining's binary_logloss: 0.527077\n",
      "[168]\ttraining's binary_logloss: 0.526602\n",
      "[169]\ttraining's binary_logloss: 0.526479\n",
      "[170]\ttraining's binary_logloss: 0.52629\n",
      "[171]\ttraining's binary_logloss: 0.526005\n",
      "[172]\ttraining's binary_logloss: 0.525775\n",
      "[173]\ttraining's binary_logloss: 0.525447\n",
      "[174]\ttraining's binary_logloss: 0.52522\n",
      "[175]\ttraining's binary_logloss: 0.524979\n",
      "[176]\ttraining's binary_logloss: 0.524705\n",
      "[177]\ttraining's binary_logloss: 0.524558\n",
      "[178]\ttraining's binary_logloss: 0.524309\n",
      "[179]\ttraining's binary_logloss: 0.524052\n",
      "[180]\ttraining's binary_logloss: 0.523767\n",
      "[181]\ttraining's binary_logloss: 0.523444\n",
      "[182]\ttraining's binary_logloss: 0.523151\n",
      "[183]\ttraining's binary_logloss: 0.522948\n",
      "[184]\ttraining's binary_logloss: 0.52272\n",
      "[185]\ttraining's binary_logloss: 0.522422\n",
      "[186]\ttraining's binary_logloss: 0.522239\n",
      "[187]\ttraining's binary_logloss: 0.522121\n",
      "[188]\ttraining's binary_logloss: 0.521896\n",
      "[189]\ttraining's binary_logloss: 0.521559\n",
      "[190]\ttraining's binary_logloss: 0.5213\n",
      "[191]\ttraining's binary_logloss: 0.521089\n",
      "[192]\ttraining's binary_logloss: 0.520793\n",
      "[193]\ttraining's binary_logloss: 0.520599\n",
      "[194]\ttraining's binary_logloss: 0.52035\n",
      "[195]\ttraining's binary_logloss: 0.52013\n",
      "[196]\ttraining's binary_logloss: 0.519861\n",
      "[197]\ttraining's binary_logloss: 0.519611\n",
      "[198]\ttraining's binary_logloss: 0.519374\n",
      "[199]\ttraining's binary_logloss: 0.519159\n",
      "[200]\ttraining's binary_logloss: 0.518957\n"
     ]
    }
   ],
   "source": [
    "import lightgbm as LightGBM\n",
    "\n",
    "lgbm = LightGBM.LGBMClassifier(early_stopping_rounds=100,\n",
    "                               reg_lambda = 0.2, \n",
    "                               n_estimators=200,\n",
    "                               max_depth = 20,\n",
    "                               class_weight={True: 10, False: 1}\n",
    "                              ) \n",
    "\n",
    "evals = [(x_train_features, y_train_bool)]\n",
    "lgbm.fit(x_train_features, y_train_bool, eval_metric='logloss', eval_set=evals)\n",
    "y_pred = lgbm.predict(x_train_features)"
   ]
  },
  {
   "cell_type": "code",
   "execution_count": 27,
   "metadata": {},
   "outputs": [
    {
     "name": "stdout",
     "output_type": "stream",
     "text": [
      "              precision    recall  f1-score   support\n",
      "\n",
      "     no risk       0.98      0.34      0.51     63323\n",
      "        risk       0.23      0.97      0.37     12790\n",
      "\n",
      "    accuracy                           0.45     76113\n",
      "   macro avg       0.61      0.66      0.44     76113\n",
      "weighted avg       0.85      0.45      0.49     76113\n",
      "\n"
     ]
    }
   ],
   "source": [
    "from sklearn.metrics import classification_report\n",
    "\n",
    "y = lgbm.predict(x_train_features)\n",
    "target_names = ['no risk', 'risk']\n",
    "\n",
    "print(classification_report(y_train_bool, y, target_names=target_names))"
   ]
  },
  {
   "cell_type": "code",
   "execution_count": 28,
   "metadata": {},
   "outputs": [
    {
     "name": "stdout",
     "output_type": "stream",
     "text": [
      "              precision    recall  f1-score   support\n",
      "\n",
      "     no risk       0.92      0.33      0.48     21025\n",
      "        risk       0.21      0.86      0.34      4329\n",
      "\n",
      "    accuracy                           0.42     25354\n",
      "   macro avg       0.57      0.60      0.41     25354\n",
      "weighted avg       0.80      0.42      0.46     25354\n",
      "\n"
     ]
    }
   ],
   "source": [
    "from sklearn.metrics import classification_report\n",
    "\n",
    "y = lgbm.predict(x_valid_features)\n",
    "target_names = ['no risk', 'risk']\n",
    "\n",
    "print(classification_report(y_valid_bool, y, target_names=target_names))"
   ]
  },
  {
   "cell_type": "markdown",
   "metadata": {},
   "source": [
    "### 3. Neural Network"
   ]
  },
  {
   "cell_type": "code",
   "execution_count": 4,
   "metadata": {},
   "outputs": [
    {
     "data": {
      "text/plain": [
       "23"
      ]
     },
     "execution_count": 4,
     "metadata": {},
     "output_type": "execute_result"
    }
   ],
   "source": [
    "len(list(x_train_features.head()))"
   ]
  },
  {
   "cell_type": "markdown",
   "metadata": {},
   "source": [
    "#### 3.1 Data Loader"
   ]
  },
  {
   "cell_type": "code",
   "execution_count": 58,
   "metadata": {},
   "outputs": [],
   "source": [
    "import torch\n",
    "from torch.utils.data import Dataset, DataLoader\n",
    "\n",
    "class StockDataset(Dataset):\n",
    "    def __init__(self, x, y):\n",
    "        self.x = x\n",
    "        self.y = y\n",
    "\n",
    "    def __len__(self):\n",
    "        return len(self.x)\n",
    "\n",
    "    def __getitem__(self, idx):\n",
    "        x = torch.FloatTensor(self.x.iloc[idx])\n",
    "        y = torch.FloatTensor(self.y.iloc[idx])\n",
    "        return x, y\n",
    "\n"
   ]
  },
  {
   "cell_type": "code",
   "execution_count": 61,
   "metadata": {},
   "outputs": [],
   "source": [
    "import torch\n",
    "import torch.nn as nn\n",
    "from torch import optim\n",
    "\n",
    "class Simple_MLP_Net(nn.Module):\n",
    "    def __init__(self):\n",
    "        super(Simple_MLP_Net, self).__init__()\n",
    "\n",
    "        self.layer = nn.Sequential(\n",
    "            nn.Linear(23, 64, bias=True),\n",
    "            nn.ReLU(),\n",
    "            nn.Linear(64, 128, bias=True),\n",
    "            nn.ReLU(),\n",
    "            nn.Linear(128, 128, bias=True),\n",
    "            nn.ReLU(),\n",
    "            nn.Linear(128, 128, bias=True),\n",
    "            nn.ReLU(),\n",
    "            nn.Linear(128, 64, bias=True),\n",
    "            nn.ReLU(),\n",
    "            nn.Linear(64, 16, bias=True),\n",
    "            nn.ReLU(),\n",
    "            nn.Linear(16, 1, bias=True),\n",
    "            nn.Sigmoid()\n",
    "        )\n",
    "\n",
    "    def forward(self, x):\n",
    "        x = self.layer(x)\n",
    "        return x\n"
   ]
  },
  {
   "cell_type": "code",
   "execution_count": 59,
   "metadata": {},
   "outputs": [
    {
     "name": "stdout",
     "output_type": "stream",
     "text": [
      "594\n"
     ]
    }
   ],
   "source": [
    "## test code\n",
    "y_train_int = pd.DataFrame()\n",
    "y_train_int['y'] = y_train_bool.astype(int)\n",
    "train_dataset = StockDataset(x_train_features, y_train_int)\n",
    "train_dataloader = DataLoader(train_dataset, batch_size=128, shuffle=True, drop_last=True)\n",
    "print(len(train_dataloader))\n",
    "\n",
    "for epoch in range(100):\n",
    "    cost = 0.0\n",
    "\n",
    "    for x, y in train_dataloader:\n",
    "        print(y)\n",
    "        break;"
   ]
  },
  {
   "cell_type": "code",
   "execution_count": 65,
   "metadata": {},
   "outputs": [
    {
     "name": "stdout",
     "output_type": "stream",
     "text": [
      "Epoch :   10, Cost : 0.453\n",
      "Epoch :   20, Cost : 0.453\n",
      "Epoch :   30, Cost : 0.453\n",
      "Epoch :   40, Cost : 0.453\n",
      "Epoch :   50, Cost : 0.453\n"
     ]
    },
    {
     "ename": "KeyboardInterrupt",
     "evalue": "",
     "output_type": "error",
     "traceback": [
      "\u001b[1;31m---------------------------------------------------------------------------\u001b[0m",
      "\u001b[1;31mKeyboardInterrupt\u001b[0m                         Traceback (most recent call last)",
      "\u001b[1;32mc:\\Users\\bkjeo\\project\\Stock-Risk-Sensor-\\simple_classifier.ipynb 셀 24\u001b[0m in \u001b[0;36m<cell line: 12>\u001b[1;34m()\u001b[0m\n\u001b[0;32m     <a href='vscode-notebook-cell:/c%3A/Users/bkjeo/project/Stock-Risk-Sensor-/simple_classifier.ipynb#X32sZmlsZQ%3D%3D?line=21'>22</a>\u001b[0m     optimizer\u001b[39m.\u001b[39mzero_grad()\n\u001b[0;32m     <a href='vscode-notebook-cell:/c%3A/Users/bkjeo/project/Stock-Risk-Sensor-/simple_classifier.ipynb#X32sZmlsZQ%3D%3D?line=22'>23</a>\u001b[0m     loss\u001b[39m.\u001b[39mbackward()\n\u001b[1;32m---> <a href='vscode-notebook-cell:/c%3A/Users/bkjeo/project/Stock-Risk-Sensor-/simple_classifier.ipynb#X32sZmlsZQ%3D%3D?line=23'>24</a>\u001b[0m     optimizer\u001b[39m.\u001b[39;49mstep()\n\u001b[0;32m     <a href='vscode-notebook-cell:/c%3A/Users/bkjeo/project/Stock-Risk-Sensor-/simple_classifier.ipynb#X32sZmlsZQ%3D%3D?line=25'>26</a>\u001b[0m     cost \u001b[39m+\u001b[39m\u001b[39m=\u001b[39m loss\n\u001b[0;32m     <a href='vscode-notebook-cell:/c%3A/Users/bkjeo/project/Stock-Risk-Sensor-/simple_classifier.ipynb#X32sZmlsZQ%3D%3D?line=27'>28</a>\u001b[0m cost \u001b[39m=\u001b[39m cost \u001b[39m/\u001b[39m \u001b[39mlen\u001b[39m(train_dataloader)\n",
      "File \u001b[1;32mc:\\Users\\bkjeo\\AppData\\Local\\Programs\\Python\\Python310\\lib\\site-packages\\torch\\optim\\optimizer.py:140\u001b[0m, in \u001b[0;36mOptimizer._hook_for_profile.<locals>.profile_hook_step.<locals>.wrapper\u001b[1;34m(*args, **kwargs)\u001b[0m\n\u001b[0;32m    138\u001b[0m profile_name \u001b[39m=\u001b[39m \u001b[39m\"\u001b[39m\u001b[39mOptimizer.step#\u001b[39m\u001b[39m{}\u001b[39;00m\u001b[39m.step\u001b[39m\u001b[39m\"\u001b[39m\u001b[39m.\u001b[39mformat(obj\u001b[39m.\u001b[39m\u001b[39m__class__\u001b[39m\u001b[39m.\u001b[39m\u001b[39m__name__\u001b[39m)\n\u001b[0;32m    139\u001b[0m \u001b[39mwith\u001b[39;00m torch\u001b[39m.\u001b[39mautograd\u001b[39m.\u001b[39mprofiler\u001b[39m.\u001b[39mrecord_function(profile_name):\n\u001b[1;32m--> 140\u001b[0m     out \u001b[39m=\u001b[39m func(\u001b[39m*\u001b[39margs, \u001b[39m*\u001b[39m\u001b[39m*\u001b[39mkwargs)\n\u001b[0;32m    141\u001b[0m     obj\u001b[39m.\u001b[39m_optimizer_step_code()\n\u001b[0;32m    142\u001b[0m     \u001b[39mreturn\u001b[39;00m out\n",
      "File \u001b[1;32mc:\\Users\\bkjeo\\AppData\\Local\\Programs\\Python\\Python310\\lib\\site-packages\\torch\\optim\\optimizer.py:23\u001b[0m, in \u001b[0;36m_use_grad_for_differentiable.<locals>._use_grad\u001b[1;34m(self, *args, **kwargs)\u001b[0m\n\u001b[0;32m     21\u001b[0m \u001b[39mtry\u001b[39;00m:\n\u001b[0;32m     22\u001b[0m     torch\u001b[39m.\u001b[39mset_grad_enabled(\u001b[39mself\u001b[39m\u001b[39m.\u001b[39mdefaults[\u001b[39m'\u001b[39m\u001b[39mdifferentiable\u001b[39m\u001b[39m'\u001b[39m])\n\u001b[1;32m---> 23\u001b[0m     ret \u001b[39m=\u001b[39m func(\u001b[39mself\u001b[39m, \u001b[39m*\u001b[39margs, \u001b[39m*\u001b[39m\u001b[39m*\u001b[39mkwargs)\n\u001b[0;32m     24\u001b[0m \u001b[39mfinally\u001b[39;00m:\n\u001b[0;32m     25\u001b[0m     torch\u001b[39m.\u001b[39mset_grad_enabled(prev_grad)\n",
      "File \u001b[1;32mc:\\Users\\bkjeo\\AppData\\Local\\Programs\\Python\\Python310\\lib\\site-packages\\torch\\optim\\adam.py:234\u001b[0m, in \u001b[0;36mAdam.step\u001b[1;34m(self, closure, grad_scaler)\u001b[0m\n\u001b[0;32m    231\u001b[0m                 \u001b[39mraise\u001b[39;00m \u001b[39mRuntimeError\u001b[39;00m(\u001b[39m'\u001b[39m\u001b[39m`requires_grad` is not supported for `step` in differentiable mode\u001b[39m\u001b[39m'\u001b[39m)\n\u001b[0;32m    232\u001b[0m             state_steps\u001b[39m.\u001b[39mappend(state[\u001b[39m'\u001b[39m\u001b[39mstep\u001b[39m\u001b[39m'\u001b[39m])\n\u001b[1;32m--> 234\u001b[0m     adam(params_with_grad,\n\u001b[0;32m    235\u001b[0m          grads,\n\u001b[0;32m    236\u001b[0m          exp_avgs,\n\u001b[0;32m    237\u001b[0m          exp_avg_sqs,\n\u001b[0;32m    238\u001b[0m          max_exp_avg_sqs,\n\u001b[0;32m    239\u001b[0m          state_steps,\n\u001b[0;32m    240\u001b[0m          amsgrad\u001b[39m=\u001b[39;49mgroup[\u001b[39m'\u001b[39;49m\u001b[39mamsgrad\u001b[39;49m\u001b[39m'\u001b[39;49m],\n\u001b[0;32m    241\u001b[0m          beta1\u001b[39m=\u001b[39;49mbeta1,\n\u001b[0;32m    242\u001b[0m          beta2\u001b[39m=\u001b[39;49mbeta2,\n\u001b[0;32m    243\u001b[0m          lr\u001b[39m=\u001b[39;49mgroup[\u001b[39m'\u001b[39;49m\u001b[39mlr\u001b[39;49m\u001b[39m'\u001b[39;49m],\n\u001b[0;32m    244\u001b[0m          weight_decay\u001b[39m=\u001b[39;49mgroup[\u001b[39m'\u001b[39;49m\u001b[39mweight_decay\u001b[39;49m\u001b[39m'\u001b[39;49m],\n\u001b[0;32m    245\u001b[0m          eps\u001b[39m=\u001b[39;49mgroup[\u001b[39m'\u001b[39;49m\u001b[39meps\u001b[39;49m\u001b[39m'\u001b[39;49m],\n\u001b[0;32m    246\u001b[0m          maximize\u001b[39m=\u001b[39;49mgroup[\u001b[39m'\u001b[39;49m\u001b[39mmaximize\u001b[39;49m\u001b[39m'\u001b[39;49m],\n\u001b[0;32m    247\u001b[0m          foreach\u001b[39m=\u001b[39;49mgroup[\u001b[39m'\u001b[39;49m\u001b[39mforeach\u001b[39;49m\u001b[39m'\u001b[39;49m],\n\u001b[0;32m    248\u001b[0m          capturable\u001b[39m=\u001b[39;49mgroup[\u001b[39m'\u001b[39;49m\u001b[39mcapturable\u001b[39;49m\u001b[39m'\u001b[39;49m],\n\u001b[0;32m    249\u001b[0m          differentiable\u001b[39m=\u001b[39;49mgroup[\u001b[39m'\u001b[39;49m\u001b[39mdifferentiable\u001b[39;49m\u001b[39m'\u001b[39;49m],\n\u001b[0;32m    250\u001b[0m          fused\u001b[39m=\u001b[39;49mgroup[\u001b[39m'\u001b[39;49m\u001b[39mfused\u001b[39;49m\u001b[39m'\u001b[39;49m],\n\u001b[0;32m    251\u001b[0m          grad_scale\u001b[39m=\u001b[39;49mgrad_scale,\n\u001b[0;32m    252\u001b[0m          found_inf\u001b[39m=\u001b[39;49mfound_inf)\n\u001b[0;32m    254\u001b[0m \u001b[39mreturn\u001b[39;00m loss\n",
      "File \u001b[1;32mc:\\Users\\bkjeo\\AppData\\Local\\Programs\\Python\\Python310\\lib\\site-packages\\torch\\optim\\adam.py:300\u001b[0m, in \u001b[0;36madam\u001b[1;34m(params, grads, exp_avgs, exp_avg_sqs, max_exp_avg_sqs, state_steps, foreach, capturable, differentiable, fused, grad_scale, found_inf, amsgrad, beta1, beta2, lr, weight_decay, eps, maximize)\u001b[0m\n\u001b[0;32m    297\u001b[0m \u001b[39melse\u001b[39;00m:\n\u001b[0;32m    298\u001b[0m     func \u001b[39m=\u001b[39m _single_tensor_adam\n\u001b[1;32m--> 300\u001b[0m func(params,\n\u001b[0;32m    301\u001b[0m      grads,\n\u001b[0;32m    302\u001b[0m      exp_avgs,\n\u001b[0;32m    303\u001b[0m      exp_avg_sqs,\n\u001b[0;32m    304\u001b[0m      max_exp_avg_sqs,\n\u001b[0;32m    305\u001b[0m      state_steps,\n\u001b[0;32m    306\u001b[0m      amsgrad\u001b[39m=\u001b[39;49mamsgrad,\n\u001b[0;32m    307\u001b[0m      beta1\u001b[39m=\u001b[39;49mbeta1,\n\u001b[0;32m    308\u001b[0m      beta2\u001b[39m=\u001b[39;49mbeta2,\n\u001b[0;32m    309\u001b[0m      lr\u001b[39m=\u001b[39;49mlr,\n\u001b[0;32m    310\u001b[0m      weight_decay\u001b[39m=\u001b[39;49mweight_decay,\n\u001b[0;32m    311\u001b[0m      eps\u001b[39m=\u001b[39;49meps,\n\u001b[0;32m    312\u001b[0m      maximize\u001b[39m=\u001b[39;49mmaximize,\n\u001b[0;32m    313\u001b[0m      capturable\u001b[39m=\u001b[39;49mcapturable,\n\u001b[0;32m    314\u001b[0m      differentiable\u001b[39m=\u001b[39;49mdifferentiable,\n\u001b[0;32m    315\u001b[0m      grad_scale\u001b[39m=\u001b[39;49mgrad_scale,\n\u001b[0;32m    316\u001b[0m      found_inf\u001b[39m=\u001b[39;49mfound_inf)\n",
      "File \u001b[1;32mc:\\Users\\bkjeo\\AppData\\Local\\Programs\\Python\\Python310\\lib\\site-packages\\torch\\optim\\adam.py:412\u001b[0m, in \u001b[0;36m_single_tensor_adam\u001b[1;34m(params, grads, exp_avgs, exp_avg_sqs, max_exp_avg_sqs, state_steps, grad_scale, found_inf, amsgrad, beta1, beta2, lr, weight_decay, eps, maximize, capturable, differentiable)\u001b[0m\n\u001b[0;32m    409\u001b[0m \u001b[39melse\u001b[39;00m:\n\u001b[0;32m    410\u001b[0m     denom \u001b[39m=\u001b[39m (exp_avg_sq\u001b[39m.\u001b[39msqrt() \u001b[39m/\u001b[39m bias_correction2_sqrt)\u001b[39m.\u001b[39madd_(eps)\n\u001b[1;32m--> 412\u001b[0m param\u001b[39m.\u001b[39;49maddcdiv_(exp_avg, denom, value\u001b[39m=\u001b[39;49m\u001b[39m-\u001b[39;49mstep_size)\n",
      "\u001b[1;31mKeyboardInterrupt\u001b[0m: "
     ]
    }
   ],
   "source": [
    "y_train_int = pd.DataFrame()\n",
    "y_train_int['y'] = y_train_bool.astype(int)\n",
    "train_dataset = StockDataset(x_train_features, y_train_int)\n",
    "train_dataloader = DataLoader(train_dataset, batch_size=128, shuffle=True, drop_last=True)\n",
    "\n",
    "device = \"cuda\" if torch.cuda.is_available() else \"cpu\"\n",
    "model = Simple_MLP_Net().to(device)\n",
    "criterion = nn.BCELoss().to(device)\n",
    "optimizer = optim.Adam(model.parameters(), lr=0.001, weight_decay=1e-7)\n",
    "\n",
    "model.train()\n",
    "for epoch in range(100):\n",
    "    cost = 0.0\n",
    "\n",
    "    for x, y in train_dataloader:\n",
    "        x = x.to(device)\n",
    "        y = y.to(device)\n",
    "\n",
    "        output = model(x)\n",
    "        loss = criterion(output, y)\n",
    "\n",
    "        optimizer.zero_grad()\n",
    "        loss.backward()\n",
    "        optimizer.step()\n",
    "\n",
    "        cost += loss\n",
    "\n",
    "    cost = cost / len(train_dataloader)\n",
    "\n",
    "    if (epoch + 1) % 10 == 0:\n",
    "        print(f\"Epoch : {epoch+1:4d}, Cost : {cost:.3f}\")\n",
    "        torch.save(model.state_dict(), './history/mlp_net_checkpoint' + str(epoch) +  '.pth')\n",
    "    \n",
    "\n"
   ]
  },
  {
   "cell_type": "code",
   "execution_count": null,
   "metadata": {},
   "outputs": [],
   "source": [
    "from torcheval.metrics import BinaryAccuracy\n",
    "\n",
    "model.eval()\n",
    "total_acc = 0\n",
    "total_loss = 0\n",
    "num_batch = 0\n",
    "for x, y in train_dataloader:\n",
    "    with torch.no_grad():\n",
    "        x = x.to(device)\n",
    "        y = y.to(device)\n",
    "\n",
    "        outputs = model(x)\n",
    "        loss = criterion(outputs, y)\n",
    "        metric = BinaryAccuracy()\n",
    "        print(outputs)\n",
    "        metric(outputs, y)\n",
    "        acc = metric.compute()\n",
    "        total_acc += acc\n",
    "        total_loss += loss.cpu().item()\n",
    "        num_batch = num_batch + 1\n",
    "        \n",
    "total_acc = total_acc/(num_batch) \n",
    "total_loss = total_loss/(num_batch)\n",
    "\n",
    "print(total_acc, total_loss)"
   ]
  },
  {
   "cell_type": "code",
   "execution_count": null,
   "metadata": {},
   "outputs": [],
   "source": [
    "torch.save(model.state_dict(), './simple_mlp_net_epoch100')"
   ]
  },
  {
   "cell_type": "code",
   "execution_count": null,
   "metadata": {},
   "outputs": [],
   "source": [
    "with torch.no_grad():\n",
    "    model.eval()\n",
    "    inputs = torch.FloatTensor(\n",
    "        [[89, 92, 75], [75, 64, 50], [38, 58, 63], [33, 42, 39], [23, 15, 32]]\n",
    "    ).to(device)\n",
    "    outputs = model(inputs)\n",
    "\n",
    "    print(\"---------\")\n",
    "    print(outputs)\n",
    "    print(outputs >= torch.FloatTensor([0.5]).to(device))\n"
   ]
  },
  {
   "cell_type": "markdown",
   "metadata": {},
   "source": [
    "### Embedding Features for Timeseries Prediction\n",
    "주가, 금리, 재무정보간의 관계를 포괄적으로 나타내는 피처를 뽑는 것이 목표"
   ]
  },
  {
   "cell_type": "markdown",
   "metadata": {},
   "source": [
    "#### 1 Encoder-Decoder Model"
   ]
  },
  {
   "cell_type": "code",
   "execution_count": null,
   "metadata": {},
   "outputs": [],
   "source": [
    "import torch\n",
    "import torch.nn as nn\n",
    "from torch import optim\n",
    "\n",
    "class Encoder_Decoder(nn.Module):\n",
    "    def __init__(self):\n",
    "        super(Simple_MLP_Net, self).__init__()\n",
    "\n",
    "        self.encoder = nn.Sequential(\n",
    "            nn.Linear(23, 64, bias=True),\n",
    "            nn.ReLU(),\n",
    "            nn.Linear(64, 32, bias=True),\n",
    "            nn.ReLU(),\n",
    "            nn.Linear(16, 8, bias=True),\n",
    "            nn.Sigmoid(),\n",
    "            \n",
    "        )\n",
    "\n",
    "        self.decoder = nn.Sequential(\n",
    "            nn.Linear(8, 16, bias=True),\n",
    "            nn.ReLU(),\n",
    "            nn.Linear(32, 64, bias=True),\n",
    "            nn.ReLU(),\n",
    "            nn.Linear(64, 23, bias=True),\n",
    "            nn.Sigmoid()\n",
    "        )\n",
    "\n",
    "    def forward(self, x):\n",
    "        x = self.encoder(x)\n",
    "        x = self.decoder(x)\n",
    "        return x"
   ]
  },
  {
   "cell_type": "code",
   "execution_count": null,
   "metadata": {},
   "outputs": [],
   "source": [
    "train_dataset = StockDataset(x_train_features, y_train)\n",
    "train_dataloader = DataLoader(train_dataset, batch_size=128, shuffle=True, drop_last=True)\n",
    "\n",
    "device = \"cuda\" if torch.cuda.is_available() else \"cpu\"\n",
    "model = Simple_MLP_Net().to(device)\n",
    "\n",
    "criterion = nn.MSELoss().to(device)\n",
    "optimizer = optim.Adam(model.parameters(), lr=0.001, weight_decay=1e-7)\n",
    "\n",
    "for epoch in range(100):\n",
    "    cost = 0.0\n",
    "\n",
    "    for x, y in train_dataloader:\n",
    "        x = x.to(device)\n",
    "        y = y.to(device)\n",
    "\n",
    "        output = model(x)\n",
    "        loss = criterion(output, y)\n",
    "\n",
    "        optimizer.zero_grad()\n",
    "        loss.backward()\n",
    "        optimizer.step()\n",
    "\n",
    "        cost += loss\n",
    "\n",
    "    cost = cost / len(train_dataloader)\n",
    "\n",
    "    if (epoch + 1) % 10 == 0:\n",
    "        print(f\"Epoch : {epoch+1:4d}, Cost : {cost:.3f}\")\n",
    "        torch.save(model.state_dict(), './history/mlp_net_checkpoint' + str(epoch) +  '.pth')"
   ]
  }
 ],
 "metadata": {
  "kernelspec": {
   "display_name": "Python 3.10.1 64-bit",
   "language": "python",
   "name": "python3"
  },
  "language_info": {
   "codemirror_mode": {
    "name": "ipython",
    "version": 3
   },
   "file_extension": ".py",
   "mimetype": "text/x-python",
   "name": "python",
   "nbconvert_exporter": "python",
   "pygments_lexer": "ipython3",
   "version": "3.10.1"
  },
  "orig_nbformat": 4,
  "vscode": {
   "interpreter": {
    "hash": "9dc4a390a9b2827902a4747c64ce7fc589728c7a1b50ebf341cedb4beb3b25a3"
   }
  }
 },
 "nbformat": 4,
 "nbformat_minor": 2
}
