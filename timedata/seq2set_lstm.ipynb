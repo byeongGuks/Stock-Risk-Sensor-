{
 "cells": [
  {
   "cell_type": "code",
   "execution_count": 1,
   "metadata": {},
   "outputs": [],
   "source": [
    "import pandas as pd\n",
    "import numpy as np"
   ]
  },
  {
   "cell_type": "code",
   "execution_count": 27,
   "metadata": {},
   "outputs": [
    {
     "name": "stderr",
     "output_type": "stream",
     "text": [
      "c:\\Users\\bkjeo\\AppData\\Local\\Programs\\Python\\Python310\\lib\\site-packages\\IPython\\core\\interactiveshell.py:3398: DtypeWarning: Columns (6) have mixed types.Specify dtype option on import or set low_memory=False.\n",
      "  exec(code_obj, self.user_global_ns, self.user_ns)\n"
     ]
    }
   ],
   "source": [
    "except_values = ['?', '??', 'N/A', 'NA', 'nan', 'NaN', '-nan', '-NaN', 'null', '-']\n",
    "data = pd.read_csv('../data/track2/merged_stock_trade_volume.csv', na_values = except_values)\n"
   ]
  },
  {
   "cell_type": "code",
   "execution_count": 28,
   "metadata": {},
   "outputs": [
    {
     "data": {
      "text/html": [
       "<div>\n",
       "<style scoped>\n",
       "    .dataframe tbody tr th:only-of-type {\n",
       "        vertical-align: middle;\n",
       "    }\n",
       "\n",
       "    .dataframe tbody tr th {\n",
       "        vertical-align: top;\n",
       "    }\n",
       "\n",
       "    .dataframe thead th {\n",
       "        text-align: right;\n",
       "    }\n",
       "</style>\n",
       "<table border=\"1\" class=\"dataframe\">\n",
       "  <thead>\n",
       "    <tr style=\"text-align: right;\">\n",
       "      <th></th>\n",
       "      <th>기관합계</th>\n",
       "      <th>기타법인</th>\n",
       "      <th>개인</th>\n",
       "      <th>외국인합계</th>\n",
       "      <th>전체</th>\n",
       "      <th>code</th>\n",
       "      <th>종가</th>\n",
       "    </tr>\n",
       "    <tr>\n",
       "      <th>date</th>\n",
       "      <th></th>\n",
       "      <th></th>\n",
       "      <th></th>\n",
       "      <th></th>\n",
       "      <th></th>\n",
       "      <th></th>\n",
       "      <th></th>\n",
       "    </tr>\n",
       "  </thead>\n",
       "  <tbody>\n",
       "    <tr>\n",
       "      <th>2017-01-02</th>\n",
       "      <td>7176</td>\n",
       "      <td>289</td>\n",
       "      <td>-1904</td>\n",
       "      <td>-5561</td>\n",
       "      <td>0</td>\n",
       "      <td>11760</td>\n",
       "      <td>21750</td>\n",
       "    </tr>\n",
       "    <tr>\n",
       "      <th>2017-01-03</th>\n",
       "      <td>-2253</td>\n",
       "      <td>-12</td>\n",
       "      <td>-3556</td>\n",
       "      <td>5821</td>\n",
       "      <td>0</td>\n",
       "      <td>11760</td>\n",
       "      <td>21400</td>\n",
       "    </tr>\n",
       "    <tr>\n",
       "      <th>2017-01-04</th>\n",
       "      <td>6774</td>\n",
       "      <td>0</td>\n",
       "      <td>-11940</td>\n",
       "      <td>5166</td>\n",
       "      <td>0</td>\n",
       "      <td>11760</td>\n",
       "      <td>21600</td>\n",
       "    </tr>\n",
       "    <tr>\n",
       "      <th>2017-01-05</th>\n",
       "      <td>3622</td>\n",
       "      <td>0</td>\n",
       "      <td>657</td>\n",
       "      <td>-4279</td>\n",
       "      <td>0</td>\n",
       "      <td>11760</td>\n",
       "      <td>21500</td>\n",
       "    </tr>\n",
       "    <tr>\n",
       "      <th>2017-01-06</th>\n",
       "      <td>10540</td>\n",
       "      <td>-290</td>\n",
       "      <td>-8690</td>\n",
       "      <td>-1560</td>\n",
       "      <td>0</td>\n",
       "      <td>11760</td>\n",
       "      <td>21950</td>\n",
       "    </tr>\n",
       "  </tbody>\n",
       "</table>\n",
       "</div>"
      ],
      "text/plain": [
       "             기관합계  기타법인     개인  외국인합계  전체   code     종가\n",
       "date                                                   \n",
       "2017-01-02   7176   289  -1904  -5561   0  11760  21750\n",
       "2017-01-03  -2253   -12  -3556   5821   0  11760  21400\n",
       "2017-01-04   6774     0 -11940   5166   0  11760  21600\n",
       "2017-01-05   3622     0    657  -4279   0  11760  21500\n",
       "2017-01-06  10540  -290  -8690  -1560   0  11760  21950"
      ]
     },
     "execution_count": 28,
     "metadata": {},
     "output_type": "execute_result"
    }
   ],
   "source": [
    "data['date'] = pd.to_datetime(data['날짜'])\n",
    "data = data.drop(['날짜'], axis=1)\n",
    "data = data.set_index('date')\n",
    "data.head()"
   ]
  },
  {
   "cell_type": "code",
   "execution_count": 30,
   "metadata": {},
   "outputs": [],
   "source": [
    "grouped_data = data.groupby('code')"
   ]
  },
  {
   "cell_type": "code",
   "execution_count": 35,
   "metadata": {},
   "outputs": [
    {
     "data": {
      "text/html": [
       "<div>\n",
       "<style scoped>\n",
       "    .dataframe tbody tr th:only-of-type {\n",
       "        vertical-align: middle;\n",
       "    }\n",
       "\n",
       "    .dataframe tbody tr th {\n",
       "        vertical-align: top;\n",
       "    }\n",
       "\n",
       "    .dataframe thead th {\n",
       "        text-align: right;\n",
       "    }\n",
       "</style>\n",
       "<table border=\"1\" class=\"dataframe\">\n",
       "  <thead>\n",
       "    <tr style=\"text-align: right;\">\n",
       "      <th></th>\n",
       "      <th>기관합계</th>\n",
       "      <th>기타법인</th>\n",
       "      <th>개인</th>\n",
       "      <th>외국인합계</th>\n",
       "      <th>전체</th>\n",
       "      <th>code</th>\n",
       "      <th>종가</th>\n",
       "    </tr>\n",
       "    <tr>\n",
       "      <th>date</th>\n",
       "      <th></th>\n",
       "      <th></th>\n",
       "      <th></th>\n",
       "      <th></th>\n",
       "      <th></th>\n",
       "      <th></th>\n",
       "      <th></th>\n",
       "    </tr>\n",
       "  </thead>\n",
       "  <tbody>\n",
       "    <tr>\n",
       "      <th>2017-01-02</th>\n",
       "      <td>7176</td>\n",
       "      <td>289</td>\n",
       "      <td>-1904</td>\n",
       "      <td>-5561</td>\n",
       "      <td>0</td>\n",
       "      <td>11760</td>\n",
       "      <td>21750</td>\n",
       "    </tr>\n",
       "    <tr>\n",
       "      <th>2017-01-03</th>\n",
       "      <td>-2253</td>\n",
       "      <td>-12</td>\n",
       "      <td>-3556</td>\n",
       "      <td>5821</td>\n",
       "      <td>0</td>\n",
       "      <td>11760</td>\n",
       "      <td>21400</td>\n",
       "    </tr>\n",
       "    <tr>\n",
       "      <th>2017-01-04</th>\n",
       "      <td>6774</td>\n",
       "      <td>0</td>\n",
       "      <td>-11940</td>\n",
       "      <td>5166</td>\n",
       "      <td>0</td>\n",
       "      <td>11760</td>\n",
       "      <td>21600</td>\n",
       "    </tr>\n",
       "    <tr>\n",
       "      <th>2017-01-05</th>\n",
       "      <td>3622</td>\n",
       "      <td>0</td>\n",
       "      <td>657</td>\n",
       "      <td>-4279</td>\n",
       "      <td>0</td>\n",
       "      <td>11760</td>\n",
       "      <td>21500</td>\n",
       "    </tr>\n",
       "    <tr>\n",
       "      <th>2017-01-06</th>\n",
       "      <td>10540</td>\n",
       "      <td>-290</td>\n",
       "      <td>-8690</td>\n",
       "      <td>-1560</td>\n",
       "      <td>0</td>\n",
       "      <td>11760</td>\n",
       "      <td>21950</td>\n",
       "    </tr>\n",
       "    <tr>\n",
       "      <th>...</th>\n",
       "      <td>...</td>\n",
       "      <td>...</td>\n",
       "      <td>...</td>\n",
       "      <td>...</td>\n",
       "      <td>...</td>\n",
       "      <td>...</td>\n",
       "      <td>...</td>\n",
       "    </tr>\n",
       "    <tr>\n",
       "      <th>2022-09-26</th>\n",
       "      <td>-3007</td>\n",
       "      <td>150</td>\n",
       "      <td>-16115</td>\n",
       "      <td>18972</td>\n",
       "      <td>0</td>\n",
       "      <td>11760</td>\n",
       "      <td>16350</td>\n",
       "    </tr>\n",
       "    <tr>\n",
       "      <th>2022-09-27</th>\n",
       "      <td>4754</td>\n",
       "      <td>0</td>\n",
       "      <td>-7845</td>\n",
       "      <td>3091</td>\n",
       "      <td>0</td>\n",
       "      <td>11760</td>\n",
       "      <td>16450</td>\n",
       "    </tr>\n",
       "    <tr>\n",
       "      <th>2022-09-28</th>\n",
       "      <td>-5321</td>\n",
       "      <td>120</td>\n",
       "      <td>16315</td>\n",
       "      <td>-11114</td>\n",
       "      <td>0</td>\n",
       "      <td>11760</td>\n",
       "      <td>15600</td>\n",
       "    </tr>\n",
       "    <tr>\n",
       "      <th>2022-09-29</th>\n",
       "      <td>36</td>\n",
       "      <td>30</td>\n",
       "      <td>3673</td>\n",
       "      <td>-3739</td>\n",
       "      <td>0</td>\n",
       "      <td>11760</td>\n",
       "      <td>15300</td>\n",
       "    </tr>\n",
       "    <tr>\n",
       "      <th>2022-09-30</th>\n",
       "      <td>82</td>\n",
       "      <td>0</td>\n",
       "      <td>-1265</td>\n",
       "      <td>1183</td>\n",
       "      <td>0</td>\n",
       "      <td>11760</td>\n",
       "      <td>15600</td>\n",
       "    </tr>\n",
       "  </tbody>\n",
       "</table>\n",
       "<p>1413 rows × 7 columns</p>\n",
       "</div>"
      ],
      "text/plain": [
       "             기관합계  기타법인     개인  외국인합계  전체   code     종가\n",
       "date                                                   \n",
       "2017-01-02   7176   289  -1904  -5561   0  11760  21750\n",
       "2017-01-03  -2253   -12  -3556   5821   0  11760  21400\n",
       "2017-01-04   6774     0 -11940   5166   0  11760  21600\n",
       "2017-01-05   3622     0    657  -4279   0  11760  21500\n",
       "2017-01-06  10540  -290  -8690  -1560   0  11760  21950\n",
       "...           ...   ...    ...    ...  ..    ...    ...\n",
       "2022-09-26  -3007   150 -16115  18972   0  11760  16350\n",
       "2022-09-27   4754     0  -7845   3091   0  11760  16450\n",
       "2022-09-28  -5321   120  16315 -11114   0  11760  15600\n",
       "2022-09-29     36    30   3673  -3739   0  11760  15300\n",
       "2022-09-30     82     0  -1265   1183   0  11760  15600\n",
       "\n",
       "[1413 rows x 7 columns]"
      ]
     },
     "execution_count": 35,
     "metadata": {},
     "output_type": "execute_result"
    }
   ],
   "source": [
    "grouped_data.get_group(11760)"
   ]
  },
  {
   "cell_type": "code",
   "execution_count": 37,
   "metadata": {},
   "outputs": [
    {
     "data": {
      "text/plain": [
       "1012"
      ]
     },
     "execution_count": 37,
     "metadata": {},
     "output_type": "execute_result"
    }
   ],
   "source": [
    "stock_code_list = data['code'].unique()\n",
    "len(stock_code_list)"
   ]
  },
  {
   "cell_type": "code",
   "execution_count": 39,
   "metadata": {},
   "outputs": [
    {
     "data": {
      "text/plain": [
       "<matplotlib.legend.Legend at 0x22218aa2d40>"
      ]
     },
     "execution_count": 39,
     "metadata": {},
     "output_type": "execute_result"
    },
    {
     "data": {
      "image/png": "[encoded data removed]",
      "text/plain": [
       "<Figure size 432x288 with 1 Axes>"
      ]
     },
     "metadata": {
      "needs_background": "light"
     },
     "output_type": "display_data"
    }
   ],
   "source": [
    "import matplotlib.pyplot as plt\n",
    "ex_data = grouped_data.get_group(11760)['개인']\n",
    "train_ex = ex_data.loc[:'2020-01-01']\n",
    "test_ex = ex_data.loc['2020-01-01':]\n",
    "\n",
    "ax = train_ex.plot()\n",
    "test_ex.plot(ax=ax)\n",
    "plt.legend(['train', 'test'])"
   ]
  },
  {
   "cell_type": "code",
   "execution_count": null,
   "metadata": {},
   "outputs": [],
   "source": []
  }
 ],
 "metadata": {
  "kernelspec": {
   "display_name": "Python 3.10.1 64-bit",
   "language": "python",
   "name": "python3"
  },
  "language_info": {
   "codemirror_mode": {
    "name": "ipython",
    "version": 3
   },
   "file_extension": ".py",
   "mimetype": "text/x-python",
   "name": "python",
   "nbconvert_exporter": "python",
   "pygments_lexer": "ipython3",
   "version": "3.10.1"
  },
  "orig_nbformat": 4,
  "vscode": {
   "interpreter": {
    "hash": "9dc4a390a9b2827902a4747c64ce7fc589728c7a1b50ebf341cedb4beb3b25a3"
   }
  }
 },
 "nbformat": 4,
 "nbformat_minor": 2
}
