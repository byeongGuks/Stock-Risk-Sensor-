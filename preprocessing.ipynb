{
 "cells": [
  {
   "cell_type": "code",
   "execution_count": 11,
   "metadata": {},
   "outputs": [],
   "source": [
    "import pandas as pd\n",
    "import numpy as np"
   ]
  },
  {
   "cell_type": "markdown",
   "metadata": {},
   "source": [
    "### 1. Data Set DownLoad"
   ]
  },
  {
   "cell_type": "code",
   "execution_count": 12,
   "metadata": {},
   "outputs": [
    {
     "name": "stderr",
     "output_type": "stream",
     "text": [
      "c:\\Users\\bkjeo\\AppData\\Local\\Programs\\Python\\Python310\\lib\\site-packages\\IPython\\core\\interactiveshell.py:3398: DtypeWarning: Columns (19,21,23,25,26,27,28) have mixed types.Specify dtype option on import or set low_memory=False.\n",
      "  exec(code_obj, self.user_global_ns, self.user_ns)\n"
     ]
    }
   ],
   "source": [
    "kospi_data = pd.read_csv('./data/final_kospi.csv')\n",
    "kosdaq_data = pd.read_csv('./data/final_kosdaq.csv')"
   ]
  },
  {
   "cell_type": "code",
   "execution_count": 25,
   "metadata": {},
   "outputs": [
    {
     "data": {
      "text/plain": [
       "366904"
      ]
     },
     "execution_count": 25,
     "metadata": {},
     "output_type": "execute_result"
    }
   ],
   "source": [
    "processed_kospi_data = kospi_data.copy(deep=True)\n",
    "\n",
    "unnecessary_columns = ['시가', '고가', '저가', '종가', '날짜', 'CODE', 'code_y']\n",
    "processed_kospi_data = processed_kospi_data.copy().drop(columns=unnecessary_columns, inplace=False)\n",
    "processed_kospi_data = processed_kospi_data.dropna(axis=0) # null 값 제가 \n",
    "processed_kospi_data = processed_kospi_data.reset_index(drop=True)\n",
    "strict=False\n",
    "\n",
    "len(processed_kospi_data)"
   ]
  },
  {
   "cell_type": "markdown",
   "metadata": {},
   "source": [
    "### 2. Split Data Set\n",
    "Split by 60% train data, 20% valid data, 20% test data"
   ]
  },
  {
   "cell_type": "code",
   "execution_count": 26,
   "metadata": {},
   "outputs": [],
   "source": [
    "import sklearn\n",
    "from sklearn.model_selection import train_test_split\n",
    "\n",
    "x = processed_kospi_data.copy().drop(columns=['Y'], inplace=False)\n",
    "y = processed_kospi_data['Y']\n",
    "\n",
    "x_train, x_remain, y_train, y_remain = train_test_split(z, y, train_size = 0.8)\n",
    "x_valid, x_test, y_valid, y_test = train_test_split(x_remain, y_remain, train_size=0.5)\n",
    "\n",
    "x_train = x_train.reset_index(drop=True)\n",
    "x_valid = x_valid.reset_index(drop=True)\n",
    "x_test = x_test.reset_index(drop=True)\n",
    "y_train = y_train.reset_index(drop=True)\n",
    "y_valid = y_valid.reset_index(drop=True)\n",
    "y_test = y_test.reset_index(drop=True)"
   ]
  },
  {
   "cell_type": "code",
   "execution_count": 30,
   "metadata": {},
   "outputs": [
    {
     "name": "stdout",
     "output_type": "stream",
     "text": [
      "Index(['Unnamed: 0', 'BPS', 'PER', 'PBR', 'EPS', 'DIV', 'DPS', 'code_x', '거래량',\n",
      "       '시가총액', 'interest', '유동자산', '비유동자산', '자산총계', '유동부채', '비유동부채', '부채총계',\n",
      "       '이익잉여금', '자본총계', '매출액', '영업이익', '법인세차감전 순이익', '당기순이익', '자본금'],\n",
      "      dtype='object')\n"
     ]
    }
   ],
   "source": [
    "print(X_train.columns)"
   ]
  },
  {
   "cell_type": "markdown",
   "metadata": {},
   "source": [
    "### 3. Data Normalization and Visualization"
   ]
  },
  {
   "cell_type": "code",
   "execution_count": null,
   "metadata": {},
   "outputs": [],
   "source": [
    "## iqr 을 적용하여 outlier를 제외한 평균 분산 값으로 정규화\n",
    "\n",
    "def calc_ (x) : \n",
    "    x_IQR = x.quantile(0.75) - x.quantile(0.25)\n",
    "    lower_bound = (x > x.quantile(0.25) - x_IQR * 1.5) ## -2.7σ in Gaussian (if x ~ Gaussian)\n",
    "    upper_bound = (x < x.quantile(0.75) + x_IQR * 1.5) ## 2.7σ in Gaussian\n",
    "    bound_conditions = lower_bound & upper_bound\n",
    "    x_clean = x.loc[bound_conditions]\n",
    "    return (x_clean.mean(), x_clean.std())\n",
    "\n",
    "def normalize(x_train, ) :\n",
    "    x_IQR = x.quantile(0.75) - x.quantile(0.25)\n",
    "    lower_bound = (x > x.quantile(0.25) - x_IQR * 1.5) ## -2.7σ in Gaussian (if x ~ Gaussian)\n",
    "    upper_bound = (x < x.quantile(0.75) + x_IQR * 1.5) ## 2.7σ in Gaussian\n",
    "    bound_conditions = lower_bound & upper_bound\n",
    "    x_clean = x.loc[bound_conditions]\n",
    "    return (x-x_clean.mean())/x_clean.std()\n",
    "\n",
    "X_train"
   ]
  },
  {
   "cell_type": "code",
   "execution_count": null,
   "metadata": {},
   "outputs": [],
   "source": []
  }
 ],
 "metadata": {
  "kernelspec": {
   "display_name": "Python 3.10.1 64-bit",
   "language": "python",
   "name": "python3"
  },
  "language_info": {
   "codemirror_mode": {
    "name": "ipython",
    "version": 3
   },
   "file_extension": ".py",
   "mimetype": "text/x-python",
   "name": "python",
   "nbconvert_exporter": "python",
   "pygments_lexer": "ipython3",
   "version": "3.10.1"
  },
  "orig_nbformat": 4,
  "vscode": {
   "interpreter": {
    "hash": "9dc4a390a9b2827902a4747c64ce7fc589728c7a1b50ebf341cedb4beb3b25a3"
   }
  }
 },
 "nbformat": 4,
 "nbformat_minor": 2
}
