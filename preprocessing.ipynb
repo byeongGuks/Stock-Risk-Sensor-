{
 "cells": [
  {
   "cell_type": "code",
   "execution_count": 1,
   "metadata": {},
   "outputs": [],
   "source": [
    "import pandas as pd\n",
    "import numpy as np"
   ]
  },
  {
   "cell_type": "markdown",
   "metadata": {},
   "source": [
    "### 1. Data Set DownLoad"
   ]
  },
  {
   "cell_type": "code",
   "execution_count": 20,
   "metadata": {},
   "outputs": [
    {
     "name": "stderr",
     "output_type": "stream",
     "text": [
      "c:\\Users\\bkjeo\\AppData\\Local\\Programs\\Python\\Python310\\lib\\site-packages\\IPython\\core\\interactiveshell.py:3398: DtypeWarning: Columns (19,21,23,25,26,27,28) have mixed types.Specify dtype option on import or set low_memory=False.\n",
      "  exec(code_obj, self.user_global_ns, self.user_ns)\n"
     ]
    }
   ],
   "source": [
    "kospi_data = pd.read_csv('./data/track1/final_kospi.csv',  na_values = ['?', '??', 'N/A', 'NA', 'nan', 'NaN', '-nan', '-NaN', 'null'])\n",
    "kosdaq_data = pd.read_csv('./data/track1/final_kosdaq.csv')"
   ]
  },
  {
   "cell_type": "code",
   "execution_count": 21,
   "metadata": {},
   "outputs": [
    {
     "data": {
      "text/plain": [
       "138355"
      ]
     },
     "execution_count": 21,
     "metadata": {},
     "output_type": "execute_result"
    }
   ],
   "source": [
    "len(kospi_data[kospi_data['날짜'] > '2021-01-01'] )"
   ]
  },
  {
   "cell_type": "code",
   "execution_count": 22,
   "metadata": {},
   "outputs": [
    {
     "data": {
      "text/plain": [
       "127494"
      ]
     },
     "execution_count": 22,
     "metadata": {},
     "output_type": "execute_result"
    }
   ],
   "source": [
    "# processed_kospi_data = kospi_data.copy(deep=True)\n",
    "processed_kospi_data = kospi_data[kospi_data['날짜'] > '2021-01-01']\n",
    "processed_kospi_data = processed_kospi_data.drop(columns=['Unnamed: 0'], inplace=False)\n",
    "\n",
    "unnecessary_columns = ['시가', '고가', '저가', '종가', 'code_x', 'code_y'] # 날짜 CODE 정보는 추후 분석을 위해 남겨 둠\n",
    "processed_kospi_data = processed_kospi_data.drop(columns=unnecessary_columns, inplace=False)\n",
    "processed_kospi_data = processed_kospi_data.dropna(axis=0) # null 값 제거\n",
    "for col_name in processed_kospi_data.columns :\n",
    "    processed_kospi_data = processed_kospi_data[processed_kospi_data[col_name] != '-']\n",
    "processed_kospi_data = processed_kospi_data.reset_index(drop=True)\n",
    "strict=False\n",
    "\n",
    "len(processed_kospi_data)"
   ]
  },
  {
   "cell_type": "markdown",
   "metadata": {},
   "source": [
    "### 2. Split Data Set\n",
    "Split by 60% train data, 20% valid data, 20% test data"
   ]
  },
  {
   "cell_type": "code",
   "execution_count": 23,
   "metadata": {},
   "outputs": [],
   "source": [
    "import sklearn\n",
    "from sklearn.model_selection import train_test_split\n",
    "\n",
    "x = processed_kospi_data.copy().drop(columns=['Y'], inplace=False)\n",
    "y = processed_kospi_data['Y']\n",
    "\n",
    "x_train, x_remain, y_train, y_remain = train_test_split(x, y, train_size = 0.6)\n",
    "x_valid, x_test, y_valid, y_test = train_test_split(x_remain, y_remain, train_size=0.5)\n",
    "\n",
    "x_train = x_train.reset_index(drop=True)\n",
    "x_valid = x_valid.reset_index(drop=True)\n",
    "x_test = x_test.reset_index(drop=True)\n",
    "y_train = y_train.reset_index(drop=True)\n",
    "y_valid = y_valid.reset_index(drop=True)\n",
    "y_test = y_test.reset_index(drop=True)"
   ]
  },
  {
   "cell_type": "code",
   "execution_count": 24,
   "metadata": {},
   "outputs": [
    {
     "name": "stdout",
     "output_type": "stream",
     "text": [
      "Index(['BPS', 'PER', 'PBR', 'EPS', 'DIV', 'DPS', '날짜', '거래량', '시가총액', '금리',\n",
      "       'CODE', '유동자산', '비유동자산', '자산총계', '유동부채', '비유동부채', '부채총계', '이익잉여금',\n",
      "       '자본총계', '매출액', '영업이익', '법인세차감전 순이익', '당기순이익', '자본금'],\n",
      "      dtype='object')\n"
     ]
    }
   ],
   "source": [
    "print(x_train.columns)"
   ]
  },
  {
   "cell_type": "markdown",
   "metadata": {},
   "source": [
    "### 3. Data Normalization and Visualization"
   ]
  },
  {
   "cell_type": "code",
   "execution_count": 25,
   "metadata": {},
   "outputs": [],
   "source": [
    "## iqr 을 적용하여 outlier를 제외한 평균 분산 값으로 정규화\n",
    "\n",
    "def calc_statistic (x) : \n",
    "    x_IQR = x.quantile(0.75) - x.quantile(0.25)\n",
    "    lower_bound = (x > x.quantile(0.25) - x_IQR * 1.5) ## -2.7σ in Gaussian (if x ~ Gaussian)\n",
    "    upper_bound = (x < x.quantile(0.75) + x_IQR * 1.5) ## 2.7σ in Gaussian\n",
    "    bound_conditions = lower_bound & upper_bound\n",
    "    x_clean = x.loc[bound_conditions]\n",
    "    return (x_clean.mean(), x_clean.std())\n",
    "\n",
    "    \n",
    "for col_name in x_train.columns :\n",
    "    if col_name == 'CODE' or col_name == '날짜' :\n",
    "        continue\n",
    "    x_train[col_name] = x_train[col_name].apply(lambda x : float(x))\n",
    "    x_valid[col_name] = x_valid[col_name].apply(lambda x : float(x))\n",
    "    x_test[col_name] = x_test[col_name].apply(lambda x : float(x))\n",
    "    m, v = calc_statistic(x_train[col_name])\n",
    "    \n",
    "    \n",
    "    x_train[col_name] = (x_train[col_name] - m) / v\n",
    "    x_valid[col_name] = (x_valid[col_name] - m) / v\n",
    "    x_test[col_name] = (x_test[col_name] - m) / v\n"
   ]
  },
  {
   "cell_type": "code",
   "execution_count": 27,
   "metadata": {},
   "outputs": [
    {
     "data": {
      "text/html": [
       "<div>\n",
       "<style scoped>\n",
       "    .dataframe tbody tr th:only-of-type {\n",
       "        vertical-align: middle;\n",
       "    }\n",
       "\n",
       "    .dataframe tbody tr th {\n",
       "        vertical-align: top;\n",
       "    }\n",
       "\n",
       "    .dataframe thead th {\n",
       "        text-align: right;\n",
       "    }\n",
       "</style>\n",
       "<table border=\"1\" class=\"dataframe\">\n",
       "  <thead>\n",
       "    <tr style=\"text-align: right;\">\n",
       "      <th></th>\n",
       "      <th>BPS</th>\n",
       "      <th>PER</th>\n",
       "      <th>PBR</th>\n",
       "      <th>EPS</th>\n",
       "      <th>DIV</th>\n",
       "      <th>DPS</th>\n",
       "      <th>날짜</th>\n",
       "      <th>거래량</th>\n",
       "      <th>시가총액</th>\n",
       "      <th>금리</th>\n",
       "      <th>...</th>\n",
       "      <th>유동부채</th>\n",
       "      <th>비유동부채</th>\n",
       "      <th>부채총계</th>\n",
       "      <th>이익잉여금</th>\n",
       "      <th>자본총계</th>\n",
       "      <th>매출액</th>\n",
       "      <th>영업이익</th>\n",
       "      <th>법인세차감전 순이익</th>\n",
       "      <th>당기순이익</th>\n",
       "      <th>자본금</th>\n",
       "    </tr>\n",
       "  </thead>\n",
       "  <tbody>\n",
       "    <tr>\n",
       "      <th>0</th>\n",
       "      <td>-0.495113</td>\n",
       "      <td>1.256968</td>\n",
       "      <td>-0.766571</td>\n",
       "      <td>-0.548917</td>\n",
       "      <td>0.616262</td>\n",
       "      <td>-0.433568</td>\n",
       "      <td>2022-05-30</td>\n",
       "      <td>-0.693488</td>\n",
       "      <td>-0.725389</td>\n",
       "      <td>1.067388</td>\n",
       "      <td>...</td>\n",
       "      <td>-0.851580</td>\n",
       "      <td>-0.707609</td>\n",
       "      <td>-0.811188</td>\n",
       "      <td>-0.108761</td>\n",
       "      <td>-0.571487</td>\n",
       "      <td>-0.760714</td>\n",
       "      <td>-0.536730</td>\n",
       "      <td>-0.498647</td>\n",
       "      <td>-0.495902</td>\n",
       "      <td>-0.732200</td>\n",
       "    </tr>\n",
       "    <tr>\n",
       "      <th>1</th>\n",
       "      <td>-0.633751</td>\n",
       "      <td>0.137159</td>\n",
       "      <td>-0.169323</td>\n",
       "      <td>-0.374962</td>\n",
       "      <td>1.216071</td>\n",
       "      <td>-0.254778</td>\n",
       "      <td>2021-03-26</td>\n",
       "      <td>8.542551</td>\n",
       "      <td>-0.532260</td>\n",
       "      <td>-0.906554</td>\n",
       "      <td>...</td>\n",
       "      <td>-0.519256</td>\n",
       "      <td>-0.476089</td>\n",
       "      <td>-0.540351</td>\n",
       "      <td>-0.036868</td>\n",
       "      <td>-0.543980</td>\n",
       "      <td>1.937225</td>\n",
       "      <td>0.388199</td>\n",
       "      <td>-0.042843</td>\n",
       "      <td>-0.069680</td>\n",
       "      <td>-0.503973</td>\n",
       "    </tr>\n",
       "    <tr>\n",
       "      <th>2</th>\n",
       "      <td>7.747009</td>\n",
       "      <td>-0.794005</td>\n",
       "      <td>-1.168565</td>\n",
       "      <td>18.660106</td>\n",
       "      <td>3.426993</td>\n",
       "      <td>7.314013</td>\n",
       "      <td>2022-08-17</td>\n",
       "      <td>0.162462</td>\n",
       "      <td>2.636423</td>\n",
       "      <td>1.856964</td>\n",
       "      <td>...</td>\n",
       "      <td>13.152690</td>\n",
       "      <td>6.916716</td>\n",
       "      <td>9.866762</td>\n",
       "      <td>2.034260</td>\n",
       "      <td>10.296689</td>\n",
       "      <td>5.435611</td>\n",
       "      <td>7.902064</td>\n",
       "      <td>7.849587</td>\n",
       "      <td>6.368202</td>\n",
       "      <td>5.548438</td>\n",
       "    </tr>\n",
       "    <tr>\n",
       "      <th>3</th>\n",
       "      <td>0.426044</td>\n",
       "      <td>-0.547647</td>\n",
       "      <td>-0.215265</td>\n",
       "      <td>4.198169</td>\n",
       "      <td>0.581389</td>\n",
       "      <td>1.205344</td>\n",
       "      <td>2022-07-27</td>\n",
       "      <td>-0.790637</td>\n",
       "      <td>0.522686</td>\n",
       "      <td>1.856964</td>\n",
       "      <td>...</td>\n",
       "      <td>-0.193619</td>\n",
       "      <td>-0.538328</td>\n",
       "      <td>-0.374662</td>\n",
       "      <td>0.508705</td>\n",
       "      <td>0.792714</td>\n",
       "      <td>0.023084</td>\n",
       "      <td>0.977278</td>\n",
       "      <td>1.357815</td>\n",
       "      <td>1.156906</td>\n",
       "      <td>-0.970299</td>\n",
       "    </tr>\n",
       "    <tr>\n",
       "      <th>4</th>\n",
       "      <td>-0.816213</td>\n",
       "      <td>-0.932689</td>\n",
       "      <td>1.071116</td>\n",
       "      <td>-0.678304</td>\n",
       "      <td>-0.911158</td>\n",
       "      <td>-0.731552</td>\n",
       "      <td>2021-05-11</td>\n",
       "      <td>3.244534</td>\n",
       "      <td>-0.729458</td>\n",
       "      <td>-0.906554</td>\n",
       "      <td>...</td>\n",
       "      <td>-0.490316</td>\n",
       "      <td>-0.568161</td>\n",
       "      <td>-0.555470</td>\n",
       "      <td>-0.865778</td>\n",
       "      <td>-0.929122</td>\n",
       "      <td>-0.697889</td>\n",
       "      <td>-1.150816</td>\n",
       "      <td>-1.088154</td>\n",
       "      <td>-1.173132</td>\n",
       "      <td>-0.134626</td>\n",
       "    </tr>\n",
       "  </tbody>\n",
       "</table>\n",
       "<p>5 rows × 24 columns</p>\n",
       "</div>"
      ],
      "text/plain": [
       "        BPS       PER       PBR        EPS       DIV       DPS          날짜  \\\n",
       "0 -0.495113  1.256968 -0.766571  -0.548917  0.616262 -0.433568  2022-05-30   \n",
       "1 -0.633751  0.137159 -0.169323  -0.374962  1.216071 -0.254778  2021-03-26   \n",
       "2  7.747009 -0.794005 -1.168565  18.660106  3.426993  7.314013  2022-08-17   \n",
       "3  0.426044 -0.547647 -0.215265   4.198169  0.581389  1.205344  2022-07-27   \n",
       "4 -0.816213 -0.932689  1.071116  -0.678304 -0.911158 -0.731552  2021-05-11   \n",
       "\n",
       "        거래량      시가총액        금리  ...       유동부채     비유동부채      부채총계     이익잉여금  \\\n",
       "0 -0.693488 -0.725389  1.067388  ...  -0.851580 -0.707609 -0.811188 -0.108761   \n",
       "1  8.542551 -0.532260 -0.906554  ...  -0.519256 -0.476089 -0.540351 -0.036868   \n",
       "2  0.162462  2.636423  1.856964  ...  13.152690  6.916716  9.866762  2.034260   \n",
       "3 -0.790637  0.522686  1.856964  ...  -0.193619 -0.538328 -0.374662  0.508705   \n",
       "4  3.244534 -0.729458 -0.906554  ...  -0.490316 -0.568161 -0.555470 -0.865778   \n",
       "\n",
       "        자본총계       매출액      영업이익  법인세차감전 순이익     당기순이익       자본금  \n",
       "0  -0.571487 -0.760714 -0.536730   -0.498647 -0.495902 -0.732200  \n",
       "1  -0.543980  1.937225  0.388199   -0.042843 -0.069680 -0.503973  \n",
       "2  10.296689  5.435611  7.902064    7.849587  6.368202  5.548438  \n",
       "3   0.792714  0.023084  0.977278    1.357815  1.156906 -0.970299  \n",
       "4  -0.929122 -0.697889 -1.150816   -1.088154 -1.173132 -0.134626  \n",
       "\n",
       "[5 rows x 24 columns]"
      ]
     },
     "execution_count": 27,
     "metadata": {},
     "output_type": "execute_result"
    }
   ],
   "source": [
    "x_train.head()"
   ]
  },
  {
   "cell_type": "code",
   "execution_count": 18,
   "metadata": {},
   "outputs": [],
   "source": [
    "x_train.to_csv('./data/track1/features/x_train.csv', index=False)\n",
    "x_valid.to_csv('./data/track1/features/x_valid.csv', index=False)\n",
    "x_test.to_csv('./data/track1/features/x_test.csv', index=False)\n",
    "y_train.to_csv('./data/track1/features/y_train.csv', index=False)\n",
    "y_valid.to_csv('./data/track1/features/y_valid.csv', index=False)\n",
    "y_test.to_csv('./data/track1/features/y_test.csv', index=False)"
   ]
  }
 ],
 "metadata": {
  "kernelspec": {
   "display_name": "Python 3.10.1 64-bit",
   "language": "python",
   "name": "python3"
  },
  "language_info": {
   "codemirror_mode": {
    "name": "ipython",
    "version": 3
   },
   "file_extension": ".py",
   "mimetype": "text/x-python",
   "name": "python",
   "nbconvert_exporter": "python",
   "pygments_lexer": "ipython3",
   "version": "3.10.1"
  },
  "orig_nbformat": 4,
  "vscode": {
   "interpreter": {
    "hash": "9dc4a390a9b2827902a4747c64ce7fc589728c7a1b50ebf341cedb4beb3b25a3"
   }
  }
 },
 "nbformat": 4,
 "nbformat_minor": 2
}
