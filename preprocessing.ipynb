{
 "cells": [
  {
   "cell_type": "code",
   "execution_count": 11,
   "metadata": {},
   "outputs": [],
   "source": [
    "import pandas as pd\n",
    "import numpy as np"
   ]
  },
  {
   "cell_type": "markdown",
   "metadata": {},
   "source": [
    "### 1. Data Set DownLoad"
   ]
  },
  {
   "cell_type": "code",
   "execution_count": 37,
   "metadata": {},
   "outputs": [
    {
     "name": "stderr",
     "output_type": "stream",
     "text": [
      "c:\\Users\\bkjeo\\AppData\\Local\\Programs\\Python\\Python310\\lib\\site-packages\\IPython\\core\\interactiveshell.py:3398: DtypeWarning: Columns (19,21,23,25,26,27,28) have mixed types.Specify dtype option on import or set low_memory=False.\n",
      "  exec(code_obj, self.user_global_ns, self.user_ns)\n"
     ]
    }
   ],
   "source": [
    "kospi_data = pd.read_csv('./data/final_kospi.csv',  na_values = ['?', '??', 'N/A', 'NA', 'nan', 'NaN', '-nan', '-NaN', 'null'])\n",
    "kosdaq_data = pd.read_csv('./data/final_kosdaq.csv')"
   ]
  },
  {
   "cell_type": "code",
   "execution_count": 53,
   "metadata": {},
   "outputs": [
    {
     "data": {
      "text/plain": [
       "365862"
      ]
     },
     "execution_count": 53,
     "metadata": {},
     "output_type": "execute_result"
    }
   ],
   "source": [
    "processed_kospi_data = kospi_data.copy(deep=True)\n",
    "\n",
    "unnecessary_columns = ['시가', '고가', '저가', '종가', '날짜', 'CODE', 'code_y']\n",
    "processed_kospi_data = processed_kospi_data.copy().drop(columns=unnecessary_columns, inplace=False)\n",
    "processed_kospi_data = processed_kospi_data.dropna(axis=0) # null 값 제거\n",
    "for col_name in processed_kospi_data.columns :\n",
    "    processed_kospi_data = processed_kospi_data[processed_kospi_data[col_name] != '-']\n",
    "processed_kospi_data = processed_kospi_data.reset_index(drop=True)\n",
    "strict=False\n",
    "\n",
    "len(processed_kospi_data)"
   ]
  },
  {
   "cell_type": "markdown",
   "metadata": {},
   "source": [
    "### 2. Split Data Set\n",
    "Split by 60% train data, 20% valid data, 20% test data"
   ]
  },
  {
   "cell_type": "code",
   "execution_count": 54,
   "metadata": {},
   "outputs": [],
   "source": [
    "import sklearn\n",
    "from sklearn.model_selection import train_test_split\n",
    "\n",
    "x = processed_kospi_data.copy().drop(columns=['Y'], inplace=False)\n",
    "y = processed_kospi_data['Y']\n",
    "\n",
    "x_train, x_remain, y_train, y_remain = train_test_split(x, y, train_size = 0.8)\n",
    "x_valid, x_test, y_valid, y_test = train_test_split(x_remain, y_remain, train_size=0.5)\n",
    "\n",
    "x_train = x_train.reset_index(drop=True)\n",
    "x_valid = x_valid.reset_index(drop=True)\n",
    "x_test = x_test.reset_index(drop=True)\n",
    "y_train = y_train.reset_index(drop=True)\n",
    "y_valid = y_valid.reset_index(drop=True)\n",
    "y_test = y_test.reset_index(drop=True)"
   ]
  },
  {
   "cell_type": "code",
   "execution_count": 55,
   "metadata": {},
   "outputs": [
    {
     "name": "stdout",
     "output_type": "stream",
     "text": [
      "Index(['Unnamed: 0', 'BPS', 'PER', 'PBR', 'EPS', 'DIV', 'DPS', 'code_x', '거래량',\n",
      "       '시가총액', '금리', '유동자산', '비유동자산', '자산총계', '유동부채', '비유동부채', '부채총계', '이익잉여금',\n",
      "       '자본총계', '매출액', '영업이익', '법인세차감전 순이익', '당기순이익', '자본금'],\n",
      "      dtype='object')\n"
     ]
    }
   ],
   "source": [
    "print(x_train.columns)"
   ]
  },
  {
   "cell_type": "markdown",
   "metadata": {},
   "source": [
    "### 3. Data Normalization and Visualization"
   ]
  },
  {
   "cell_type": "code",
   "execution_count": 56,
   "metadata": {},
   "outputs": [],
   "source": [
    "## iqr 을 적용하여 outlier를 제외한 평균 분산 값으로 정규화\n",
    "\n",
    "def calc_statistic (x) : \n",
    "    x_IQR = x.quantile(0.75) - x.quantile(0.25)\n",
    "    lower_bound = (x > x.quantile(0.25) - x_IQR * 1.5) ## -2.7σ in Gaussian (if x ~ Gaussian)\n",
    "    upper_bound = (x < x.quantile(0.75) + x_IQR * 1.5) ## 2.7σ in Gaussian\n",
    "    bound_conditions = lower_bound & upper_bound\n",
    "    x_clean = x.loc[bound_conditions]\n",
    "    return (x_clean.mean(), x_clean.std())\n",
    "\n",
    "    \n",
    "for col_name in x_train.columns :\n",
    "    x_train[col_name] = x_train[col_name].apply(lambda x : float(x))\n",
    "    x_valid[col_name] = x_valid[col_name].apply(lambda x : float(x))\n",
    "    x_test[col_name] = x_test[col_name].apply(lambda x : float(x))\n",
    "    m, v = calc_statistic(x_train[col_name])\n",
    "    \n",
    "    \n",
    "    x_train[col_name] = (x_train[col_name] - m) / v\n",
    "    x_valid[col_name] = (x_valid[col_name] - m) / v\n",
    "    x_test[col_name] = (x_test[col_name] - m) / v\n"
   ]
  },
  {
   "cell_type": "code",
   "execution_count": 57,
   "metadata": {},
   "outputs": [
    {
     "data": {
      "text/html": [
       "<div>\n",
       "<style scoped>\n",
       "    .dataframe tbody tr th:only-of-type {\n",
       "        vertical-align: middle;\n",
       "    }\n",
       "\n",
       "    .dataframe tbody tr th {\n",
       "        vertical-align: top;\n",
       "    }\n",
       "\n",
       "    .dataframe thead th {\n",
       "        text-align: right;\n",
       "    }\n",
       "</style>\n",
       "<table border=\"1\" class=\"dataframe\">\n",
       "  <thead>\n",
       "    <tr style=\"text-align: right;\">\n",
       "      <th></th>\n",
       "      <th>Unnamed: 0</th>\n",
       "      <th>BPS</th>\n",
       "      <th>PER</th>\n",
       "      <th>PBR</th>\n",
       "      <th>EPS</th>\n",
       "      <th>DIV</th>\n",
       "      <th>DPS</th>\n",
       "      <th>code_x</th>\n",
       "      <th>거래량</th>\n",
       "      <th>시가총액</th>\n",
       "      <th>...</th>\n",
       "      <th>유동부채</th>\n",
       "      <th>비유동부채</th>\n",
       "      <th>부채총계</th>\n",
       "      <th>이익잉여금</th>\n",
       "      <th>자본총계</th>\n",
       "      <th>매출액</th>\n",
       "      <th>영업이익</th>\n",
       "      <th>법인세차감전 순이익</th>\n",
       "      <th>당기순이익</th>\n",
       "      <th>자본금</th>\n",
       "    </tr>\n",
       "  </thead>\n",
       "  <tbody>\n",
       "    <tr>\n",
       "      <th>0</th>\n",
       "      <td>0.627878</td>\n",
       "      <td>3.292540</td>\n",
       "      <td>0.662492</td>\n",
       "      <td>0.149602</td>\n",
       "      <td>3.138912</td>\n",
       "      <td>-0.096220</td>\n",
       "      <td>3.478891</td>\n",
       "      <td>-0.763450</td>\n",
       "      <td>-0.621206</td>\n",
       "      <td>0.414084</td>\n",
       "      <td>...</td>\n",
       "      <td>-0.824370</td>\n",
       "      <td>-0.701744</td>\n",
       "      <td>-0.798864</td>\n",
       "      <td>0.205968</td>\n",
       "      <td>0.043004</td>\n",
       "      <td>-0.836436</td>\n",
       "      <td>-0.494169</td>\n",
       "      <td>-0.448650</td>\n",
       "      <td>-0.412000</td>\n",
       "      <td>-0.643810</td>\n",
       "    </tr>\n",
       "    <tr>\n",
       "      <th>1</th>\n",
       "      <td>1.715353</td>\n",
       "      <td>-0.733654</td>\n",
       "      <td>1.834797</td>\n",
       "      <td>26.092822</td>\n",
       "      <td>0.307427</td>\n",
       "      <td>-0.948765</td>\n",
       "      <td>-0.730663</td>\n",
       "      <td>-0.535446</td>\n",
       "      <td>9.493697</td>\n",
       "      <td>3.896698</td>\n",
       "      <td>...</td>\n",
       "      <td>-0.368302</td>\n",
       "      <td>-0.381422</td>\n",
       "      <td>-0.416038</td>\n",
       "      <td>-1.206913</td>\n",
       "      <td>-0.681806</td>\n",
       "      <td>-0.073949</td>\n",
       "      <td>-0.387263</td>\n",
       "      <td>-11.045479</td>\n",
       "      <td>-13.345662</td>\n",
       "      <td>-0.390852</td>\n",
       "    </tr>\n",
       "    <tr>\n",
       "      <th>2</th>\n",
       "      <td>0.620704</td>\n",
       "      <td>-0.568747</td>\n",
       "      <td>0.303763</td>\n",
       "      <td>1.067123</td>\n",
       "      <td>-0.174943</td>\n",
       "      <td>0.006086</td>\n",
       "      <td>-0.244945</td>\n",
       "      <td>7.942350</td>\n",
       "      <td>0.256509</td>\n",
       "      <td>0.148851</td>\n",
       "      <td>...</td>\n",
       "      <td>0.031655</td>\n",
       "      <td>0.590235</td>\n",
       "      <td>0.136121</td>\n",
       "      <td>-0.388547</td>\n",
       "      <td>-0.129846</td>\n",
       "      <td>-0.270381</td>\n",
       "      <td>0.733260</td>\n",
       "      <td>0.667983</td>\n",
       "      <td>0.600173</td>\n",
       "      <td>0.270850</td>\n",
       "    </tr>\n",
       "    <tr>\n",
       "      <th>3</th>\n",
       "      <td>-1.585192</td>\n",
       "      <td>9.206245</td>\n",
       "      <td>-0.240338</td>\n",
       "      <td>-0.089751</td>\n",
       "      <td>16.922013</td>\n",
       "      <td>-0.948765</td>\n",
       "      <td>-0.730663</td>\n",
       "      <td>-0.730090</td>\n",
       "      <td>-0.802941</td>\n",
       "      <td>-0.447128</td>\n",
       "      <td>...</td>\n",
       "      <td>-0.800550</td>\n",
       "      <td>-0.474721</td>\n",
       "      <td>-0.712978</td>\n",
       "      <td>-0.055237</td>\n",
       "      <td>-0.439640</td>\n",
       "      <td>-0.625262</td>\n",
       "      <td>-0.378495</td>\n",
       "      <td>1.361023</td>\n",
       "      <td>1.485813</td>\n",
       "      <td>-0.803196</td>\n",
       "    </tr>\n",
       "    <tr>\n",
       "      <th>4</th>\n",
       "      <td>1.415411</td>\n",
       "      <td>1.022191</td>\n",
       "      <td>1.443456</td>\n",
       "      <td>0.269279</td>\n",
       "      <td>0.567433</td>\n",
       "      <td>1.083702</td>\n",
       "      <td>4.126515</td>\n",
       "      <td>-0.668058</td>\n",
       "      <td>-0.666610</td>\n",
       "      <td>0.967481</td>\n",
       "      <td>...</td>\n",
       "      <td>2.960084</td>\n",
       "      <td>4.073175</td>\n",
       "      <td>3.041116</td>\n",
       "      <td>-0.290449</td>\n",
       "      <td>0.737919</td>\n",
       "      <td>0.351909</td>\n",
       "      <td>2.818256</td>\n",
       "      <td>2.204696</td>\n",
       "      <td>1.931139</td>\n",
       "      <td>1.476185</td>\n",
       "    </tr>\n",
       "  </tbody>\n",
       "</table>\n",
       "<p>5 rows × 24 columns</p>\n",
       "</div>"
      ],
      "text/plain": [
       "   Unnamed: 0       BPS       PER        PBR        EPS       DIV       DPS  \\\n",
       "0    0.627878  3.292540  0.662492   0.149602   3.138912 -0.096220  3.478891   \n",
       "1    1.715353 -0.733654  1.834797  26.092822   0.307427 -0.948765 -0.730663   \n",
       "2    0.620704 -0.568747  0.303763   1.067123  -0.174943  0.006086 -0.244945   \n",
       "3   -1.585192  9.206245 -0.240338  -0.089751  16.922013 -0.948765 -0.730663   \n",
       "4    1.415411  1.022191  1.443456   0.269279   0.567433  1.083702  4.126515   \n",
       "\n",
       "     code_x       거래량      시가총액  ...      유동부채     비유동부채      부채총계     이익잉여금  \\\n",
       "0 -0.763450 -0.621206  0.414084  ... -0.824370 -0.701744 -0.798864  0.205968   \n",
       "1 -0.535446  9.493697  3.896698  ... -0.368302 -0.381422 -0.416038 -1.206913   \n",
       "2  7.942350  0.256509  0.148851  ...  0.031655  0.590235  0.136121 -0.388547   \n",
       "3 -0.730090 -0.802941 -0.447128  ... -0.800550 -0.474721 -0.712978 -0.055237   \n",
       "4 -0.668058 -0.666610  0.967481  ...  2.960084  4.073175  3.041116 -0.290449   \n",
       "\n",
       "       자본총계       매출액      영업이익  법인세차감전 순이익      당기순이익       자본금  \n",
       "0  0.043004 -0.836436 -0.494169   -0.448650  -0.412000 -0.643810  \n",
       "1 -0.681806 -0.073949 -0.387263  -11.045479 -13.345662 -0.390852  \n",
       "2 -0.129846 -0.270381  0.733260    0.667983   0.600173  0.270850  \n",
       "3 -0.439640 -0.625262 -0.378495    1.361023   1.485813 -0.803196  \n",
       "4  0.737919  0.351909  2.818256    2.204696   1.931139  1.476185  \n",
       "\n",
       "[5 rows x 24 columns]"
      ]
     },
     "execution_count": 57,
     "metadata": {},
     "output_type": "execute_result"
    }
   ],
   "source": [
    "x_train.head()"
   ]
  },
  {
   "cell_type": "code",
   "execution_count": 59,
   "metadata": {},
   "outputs": [],
   "source": [
    "x_train.to_csv('./data/features/x_train.csv', index=False)\n",
    "x_valid.to_csv('./data/features/x_valid.csv', index=False)\n",
    "x_test.to_csv('./data/features/x_test.csv', index=False)\n",
    "y_train.to_csv('./data/features/y_train.csv', index=False)\n",
    "y_valid.to_csv('./data/features/y_valid.csv', index=False)\n",
    "y_test.to_csv('./data/features/y_test.csv', index=False)"
   ]
  }
 ],
 "metadata": {
  "kernelspec": {
   "display_name": "Python 3.10.1 64-bit",
   "language": "python",
   "name": "python3"
  },
  "language_info": {
   "codemirror_mode": {
    "name": "ipython",
    "version": 3
   },
   "file_extension": ".py",
   "mimetype": "text/x-python",
   "name": "python",
   "nbconvert_exporter": "python",
   "pygments_lexer": "ipython3",
   "version": "3.10.1"
  },
  "orig_nbformat": 4,
  "vscode": {
   "interpreter": {
    "hash": "9dc4a390a9b2827902a4747c64ce7fc589728c7a1b50ebf341cedb4beb3b25a3"
   }
  }
 },
 "nbformat": 4,
 "nbformat_minor": 2
}
