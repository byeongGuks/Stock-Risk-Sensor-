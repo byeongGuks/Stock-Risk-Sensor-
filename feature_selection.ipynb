{
 "cells": [
  {
   "cell_type": "code",
   "execution_count": null,
   "metadata": {},
   "outputs": [],
   "source": [
    "import pandas as pd\n",
    "import numpy as np"
   ]
  }
 ],
 "metadata": {
  "kernelspec": {
   "display_name": "Python 3.10.1 64-bit",
   "language": "python",
   "name": "python3"
  },
  "language_info": {
   "name": "python",
   "version": "3.10.1"
  },
  "orig_nbformat": 4,
  "vscode": {
   "interpreter": {
    "hash": "9dc4a390a9b2827902a4747c64ce7fc589728c7a1b50ebf341cedb4beb3b25a3"
   }
  }
 },
 "nbformat": 4,
 "nbformat_minor": 2
}
