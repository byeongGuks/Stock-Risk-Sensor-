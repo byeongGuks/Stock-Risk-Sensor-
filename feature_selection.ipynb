{
 "cells": [
  {
   "cell_type": "code",
   "execution_count": 11,
   "metadata": {},
   "outputs": [],
   "source": [
    "import pandas as pd\n",
    "import numpy as np\n",
    "import matplotlib.pyplot as plt"
   ]
  },
  {
   "cell_type": "code",
   "execution_count": 12,
   "metadata": {},
   "outputs": [],
   "source": [
    "x_train = pd.read_csv('./data/track1/features/x_train.csv')\n",
    "x_valid = pd.read_csv('./data/track1/features/x_valid.csv')\n",
    "x_test = pd.read_csv('./data/track1/features/x_test.csv')\n",
    "y_train = pd.read_csv('./data/track1/features/y_train.csv')\n",
    "y_valid = pd.read_csv('./data/track1/features/y_valid.csv')\n",
    "y_test = pd.read_csv('./data/track1/features/y_test.csv')"
   ]
  },
  {
   "cell_type": "code",
   "execution_count": 23,
   "metadata": {},
   "outputs": [],
   "source": [
    "x_train_features = x_train.drop(columns=['날짜', 'CODE'], inplace=False)\n",
    "y = y_train['Y'] <-5.0"
   ]
  },
  {
   "cell_type": "code",
   "execution_count": 24,
   "metadata": {},
   "outputs": [
    {
     "data": {
      "text/plain": [
       "False    74417\n",
       "True      2079\n",
       "Name: Y, dtype: int64"
      ]
     },
     "execution_count": 24,
     "metadata": {},
     "output_type": "execute_result"
    }
   ],
   "source": [
    "y.value_counts()"
   ]
  },
  {
   "cell_type": "code",
   "execution_count": 15,
   "metadata": {},
   "outputs": [
    {
     "data": {
      "text/html": [
       "<div>\n",
       "<style scoped>\n",
       "    .dataframe tbody tr th:only-of-type {\n",
       "        vertical-align: middle;\n",
       "    }\n",
       "\n",
       "    .dataframe tbody tr th {\n",
       "        vertical-align: top;\n",
       "    }\n",
       "\n",
       "    .dataframe thead th {\n",
       "        text-align: right;\n",
       "    }\n",
       "</style>\n",
       "<table border=\"1\" class=\"dataframe\">\n",
       "  <thead>\n",
       "    <tr style=\"text-align: right;\">\n",
       "      <th></th>\n",
       "      <th>BPS</th>\n",
       "      <th>PER</th>\n",
       "      <th>PBR</th>\n",
       "      <th>EPS</th>\n",
       "      <th>DIV</th>\n",
       "      <th>DPS</th>\n",
       "      <th>거래량</th>\n",
       "      <th>시가총액</th>\n",
       "      <th>금리</th>\n",
       "      <th>유동자산</th>\n",
       "      <th>...</th>\n",
       "      <th>유동부채</th>\n",
       "      <th>비유동부채</th>\n",
       "      <th>부채총계</th>\n",
       "      <th>이익잉여금</th>\n",
       "      <th>자본총계</th>\n",
       "      <th>매출액</th>\n",
       "      <th>영업이익</th>\n",
       "      <th>법인세차감전 순이익</th>\n",
       "      <th>당기순이익</th>\n",
       "      <th>자본금</th>\n",
       "    </tr>\n",
       "  </thead>\n",
       "  <tbody>\n",
       "    <tr>\n",
       "      <th>0</th>\n",
       "      <td>-0.495113</td>\n",
       "      <td>1.256968</td>\n",
       "      <td>-0.766571</td>\n",
       "      <td>-0.548917</td>\n",
       "      <td>0.616262</td>\n",
       "      <td>-0.433568</td>\n",
       "      <td>-0.693488</td>\n",
       "      <td>-0.725389</td>\n",
       "      <td>1.067388</td>\n",
       "      <td>-0.759644</td>\n",
       "      <td>...</td>\n",
       "      <td>-0.851580</td>\n",
       "      <td>-0.707609</td>\n",
       "      <td>-0.811188</td>\n",
       "      <td>-0.108761</td>\n",
       "      <td>-0.571487</td>\n",
       "      <td>-0.760714</td>\n",
       "      <td>-0.536730</td>\n",
       "      <td>-0.498647</td>\n",
       "      <td>-0.495902</td>\n",
       "      <td>-0.732200</td>\n",
       "    </tr>\n",
       "    <tr>\n",
       "      <th>1</th>\n",
       "      <td>-0.633751</td>\n",
       "      <td>0.137159</td>\n",
       "      <td>-0.169323</td>\n",
       "      <td>-0.374962</td>\n",
       "      <td>1.216071</td>\n",
       "      <td>-0.254778</td>\n",
       "      <td>8.542551</td>\n",
       "      <td>-0.532260</td>\n",
       "      <td>-0.906554</td>\n",
       "      <td>-0.530447</td>\n",
       "      <td>...</td>\n",
       "      <td>-0.519256</td>\n",
       "      <td>-0.476089</td>\n",
       "      <td>-0.540351</td>\n",
       "      <td>-0.036868</td>\n",
       "      <td>-0.543980</td>\n",
       "      <td>1.937225</td>\n",
       "      <td>0.388199</td>\n",
       "      <td>-0.042843</td>\n",
       "      <td>-0.069680</td>\n",
       "      <td>-0.503973</td>\n",
       "    </tr>\n",
       "    <tr>\n",
       "      <th>2</th>\n",
       "      <td>7.747009</td>\n",
       "      <td>-0.794005</td>\n",
       "      <td>-1.168565</td>\n",
       "      <td>18.660106</td>\n",
       "      <td>3.426993</td>\n",
       "      <td>7.314013</td>\n",
       "      <td>0.162462</td>\n",
       "      <td>2.636423</td>\n",
       "      <td>1.856964</td>\n",
       "      <td>13.707215</td>\n",
       "      <td>...</td>\n",
       "      <td>13.152690</td>\n",
       "      <td>6.916716</td>\n",
       "      <td>9.866762</td>\n",
       "      <td>2.034260</td>\n",
       "      <td>10.296689</td>\n",
       "      <td>5.435611</td>\n",
       "      <td>7.902064</td>\n",
       "      <td>7.849587</td>\n",
       "      <td>6.368202</td>\n",
       "      <td>5.548438</td>\n",
       "    </tr>\n",
       "    <tr>\n",
       "      <th>3</th>\n",
       "      <td>0.426044</td>\n",
       "      <td>-0.547647</td>\n",
       "      <td>-0.215265</td>\n",
       "      <td>4.198169</td>\n",
       "      <td>0.581389</td>\n",
       "      <td>1.205344</td>\n",
       "      <td>-0.790637</td>\n",
       "      <td>0.522686</td>\n",
       "      <td>1.856964</td>\n",
       "      <td>0.379260</td>\n",
       "      <td>...</td>\n",
       "      <td>-0.193619</td>\n",
       "      <td>-0.538328</td>\n",
       "      <td>-0.374662</td>\n",
       "      <td>0.508705</td>\n",
       "      <td>0.792714</td>\n",
       "      <td>0.023084</td>\n",
       "      <td>0.977278</td>\n",
       "      <td>1.357815</td>\n",
       "      <td>1.156906</td>\n",
       "      <td>-0.970299</td>\n",
       "    </tr>\n",
       "    <tr>\n",
       "      <th>4</th>\n",
       "      <td>-0.816213</td>\n",
       "      <td>-0.932689</td>\n",
       "      <td>1.071116</td>\n",
       "      <td>-0.678304</td>\n",
       "      <td>-0.911158</td>\n",
       "      <td>-0.731552</td>\n",
       "      <td>3.244534</td>\n",
       "      <td>-0.729458</td>\n",
       "      <td>-0.906554</td>\n",
       "      <td>-0.691097</td>\n",
       "      <td>...</td>\n",
       "      <td>-0.490316</td>\n",
       "      <td>-0.568161</td>\n",
       "      <td>-0.555470</td>\n",
       "      <td>-0.865778</td>\n",
       "      <td>-0.929122</td>\n",
       "      <td>-0.697889</td>\n",
       "      <td>-1.150816</td>\n",
       "      <td>-1.088154</td>\n",
       "      <td>-1.173132</td>\n",
       "      <td>-0.134626</td>\n",
       "    </tr>\n",
       "  </tbody>\n",
       "</table>\n",
       "<p>5 rows × 22 columns</p>\n",
       "</div>"
      ],
      "text/plain": [
       "        BPS       PER       PBR        EPS       DIV       DPS       거래량  \\\n",
       "0 -0.495113  1.256968 -0.766571  -0.548917  0.616262 -0.433568 -0.693488   \n",
       "1 -0.633751  0.137159 -0.169323  -0.374962  1.216071 -0.254778  8.542551   \n",
       "2  7.747009 -0.794005 -1.168565  18.660106  3.426993  7.314013  0.162462   \n",
       "3  0.426044 -0.547647 -0.215265   4.198169  0.581389  1.205344 -0.790637   \n",
       "4 -0.816213 -0.932689  1.071116  -0.678304 -0.911158 -0.731552  3.244534   \n",
       "\n",
       "       시가총액        금리       유동자산  ...       유동부채     비유동부채      부채총계  \\\n",
       "0 -0.725389  1.067388  -0.759644  ...  -0.851580 -0.707609 -0.811188   \n",
       "1 -0.532260 -0.906554  -0.530447  ...  -0.519256 -0.476089 -0.540351   \n",
       "2  2.636423  1.856964  13.707215  ...  13.152690  6.916716  9.866762   \n",
       "3  0.522686  1.856964   0.379260  ...  -0.193619 -0.538328 -0.374662   \n",
       "4 -0.729458 -0.906554  -0.691097  ...  -0.490316 -0.568161 -0.555470   \n",
       "\n",
       "      이익잉여금       자본총계       매출액      영업이익  법인세차감전 순이익     당기순이익       자본금  \n",
       "0 -0.108761  -0.571487 -0.760714 -0.536730   -0.498647 -0.495902 -0.732200  \n",
       "1 -0.036868  -0.543980  1.937225  0.388199   -0.042843 -0.069680 -0.503973  \n",
       "2  2.034260  10.296689  5.435611  7.902064    7.849587  6.368202  5.548438  \n",
       "3  0.508705   0.792714  0.023084  0.977278    1.357815  1.156906 -0.970299  \n",
       "4 -0.865778  -0.929122 -0.697889 -1.150816   -1.088154 -1.173132 -0.134626  \n",
       "\n",
       "[5 rows x 22 columns]"
      ]
     },
     "execution_count": 15,
     "metadata": {},
     "output_type": "execute_result"
    }
   ],
   "source": [
    "x_train_features.head()"
   ]
  },
  {
   "cell_type": "code",
   "execution_count": 32,
   "metadata": {},
   "outputs": [
    {
     "data": {
      "image/png": "[encoded data removed]",
      "text/plain": [
       "<Figure size 432x432 with 1 Axes>"
      ]
     },
     "metadata": {
      "needs_background": "light"
     },
     "output_type": "display_data"
    }
   ],
   "source": [
    "from mpl_toolkits.mplot3d import Axes3D\n",
    "\n",
    "fig = plt.figure(figsize=(6, 6))\n",
    "ax = fig.add_subplot(111, projection='3d')\n",
    "x_train0 = x_train[y==False]\n",
    "x_train1 = x_train[y==True]\n",
    "\n",
    "ax.scatter(x_train0['PER'], x_train0['PBR'], x_train0['DIV'], c=\"Green\")\n",
    "ax.scatter(x_train1['PER'], x_train1['PBR'], x_train1['DIV'], c=\"Blue\")\n",
    "\n",
    "#ax.scatter(x_test['PBR'], x_test['거래량'], x_test['시가총액'])\n",
    "\n",
    "plt.show()"
   ]
  },
  {
   "cell_type": "markdown",
   "metadata": {},
   "source": [
    "### 1. Feature Filtering \n",
    "calculate mutual information of features with risk"
   ]
  },
  {
   "cell_type": "code",
   "execution_count": 4,
   "metadata": {},
   "outputs": [
    {
     "data": {
      "image/png": "[encoded data removed]",
      "text/plain": [
       "<Figure size 432x288 with 1 Axes>"
      ]
     },
     "metadata": {
      "needs_background": "light"
     },
     "output_type": "display_data"
    }
   ],
   "source": [
    "from sklearn.feature_selection import mutual_info_classif\n",
    "\n",
    "mutual_info = mutual_info_classif(x_train_features, y, discrete_features=False)\n",
    "mutual_info_series = pd.Series(mutual_info, x_train_features.columns)\n",
    "\n",
    "plt.rc('font', family='Malgun Gothic')\n",
    "mutual_info_series.plot(kind='barh')\n",
    "plt.show()"
   ]
  },
  {
   "cell_type": "markdown",
   "metadata": {},
   "source": [
    "### 2. Backward Feture Selection"
   ]
  },
  {
   "cell_type": "code",
   "execution_count": 6,
   "metadata": {},
   "outputs": [],
   "source": [
    "from sklearn.feature_selection import RFECV\n",
    "from sklearn.ensemble import RandomForestClassifier\n",
    "\n",
    "rfecv = RFECV(estimator=RandomForestClassifier(), step = 1)\n",
    "results = rfecv.fit_transform(x_train_features, y)\n"
   ]
  },
  {
   "cell_type": "code",
   "execution_count": null,
   "metadata": {},
   "outputs": [],
   "source": [
    "print(\"size of optimal feature set : %d\" %rfecv.n_features_ )\n",
    "\n",
    "average_grid_score = rfecv.grid_scores_.mean(axis= 1)\n",
    "\n",
    "plt.figure()\n",
    "plt.xlabel(\"number of selected feature\")\n",
    "plt.ylabel(\"accuracy\")\n",
    "plt.plot(average_grid_score)\n",
    "plt.show()"
   ]
  },
  {
   "cell_type": "code",
   "execution_count": 10,
   "metadata": {},
   "outputs": [
    {
     "name": "stdout",
     "output_type": "stream",
     "text": [
      "Feature: 0, Selected False, Rank: 8.000\n",
      "Feature: 1, Selected False, Rank: 2.000\n",
      "Feature: 2, Selected True, Rank: 1.000\n",
      "Feature: 3, Selected False, Rank: 19.000\n",
      "Feature: 4, Selected False, Rank: 5.000\n",
      "Feature: 5, Selected False, Rank: 20.000\n",
      "Feature: 6, Selected True, Rank: 1.000\n",
      "Feature: 7, Selected True, Rank: 1.000\n",
      "Feature: 8, Selected False, Rank: 10.000\n",
      "Feature: 9, Selected False, Rank: 15.000\n",
      "Feature: 10, Selected False, Rank: 4.000\n",
      "Feature: 11, Selected False, Rank: 14.000\n",
      "Feature: 12, Selected False, Rank: 7.000\n",
      "Feature: 13, Selected False, Rank: 12.000\n",
      "Feature: 14, Selected False, Rank: 16.000\n",
      "Feature: 15, Selected False, Rank: 11.000\n",
      "Feature: 16, Selected False, Rank: 3.000\n",
      "Feature: 17, Selected False, Rank: 6.000\n",
      "Feature: 18, Selected False, Rank: 13.000\n",
      "Feature: 19, Selected False, Rank: 17.000\n",
      "Feature: 20, Selected False, Rank: 9.000\n",
      "Feature: 21, Selected False, Rank: 18.000\n"
     ]
    },
    {
     "ename": "NameError",
     "evalue": "name 'X' is not defined",
     "output_type": "error",
     "traceback": [
      "\u001b[1;31m---------------------------------------------------------------------------\u001b[0m",
      "\u001b[1;31mNameError\u001b[0m                                 Traceback (most recent call last)",
      "\u001b[1;32mc:\\Users\\bkjeo\\project\\Stock-Risk-Sensor-\\feature_selection.ipynb 셀 10\u001b[0m in \u001b[0;36m<cell line: 13>\u001b[1;34m()\u001b[0m\n\u001b[0;32m     <a href='vscode-notebook-cell:/c%3A/Users/bkjeo/project/Stock-Risk-Sensor-/feature_selection.ipynb#X11sZmlsZQ%3D%3D?line=12'>13</a>\u001b[0m \u001b[39mfor\u001b[39;00m i \u001b[39min\u001b[39;00m ref_result\u001b[39m.\u001b[39mcolumns :\n\u001b[0;32m     <a href='vscode-notebook-cell:/c%3A/Users/bkjeo/project/Stock-Risk-Sensor-/feature_selection.ipynb#X11sZmlsZQ%3D%3D?line=13'>14</a>\u001b[0m     \u001b[39mfor\u001b[39;00m j \u001b[39min\u001b[39;00m x_train_features\u001b[39m.\u001b[39mcolumns :\n\u001b[1;32m---> <a href='vscode-notebook-cell:/c%3A/Users/bkjeo/project/Stock-Risk-Sensor-/feature_selection.ipynb#X11sZmlsZQ%3D%3D?line=14'>15</a>\u001b[0m         \u001b[39mif\u001b[39;00m np\u001b[39m.\u001b[39mall(X[j] \u001b[39m==\u001b[39m rfe_result[i]):\n\u001b[0;32m     <a href='vscode-notebook-cell:/c%3A/Users/bkjeo/project/Stock-Risk-Sensor-/feature_selection.ipynb#X11sZmlsZQ%3D%3D?line=15'>16</a>\u001b[0m             ref_features\u001b[39m.\u001b[39mappend(j)\n\u001b[0;32m     <a href='vscode-notebook-cell:/c%3A/Users/bkjeo/project/Stock-Risk-Sensor-/feature_selection.ipynb#X11sZmlsZQ%3D%3D?line=16'>17</a>\u001b[0m \u001b[39mprint\u001b[39m(ref_features)\n",
      "\u001b[1;31mNameError\u001b[0m: name 'X' is not defined"
     ]
    }
   ],
   "source": [
    "from sklearn.feature_selection import RFE\n",
    "from sklearn.ensemble import RandomForestClassifier\n",
    "\n",
    "\n",
    "rfe = RFE(estimator = RandomForestClassifier(), n_features_to_select = 3)\n",
    "rfe_result = rfe.fit_transform(x_train_features, y)\n",
    "ref_result = pd.DataFrame(rfe_result, index=x_train_features.index)\n",
    "\n",
    "for i in range(x_train_features.shape[1]) :\n",
    "    print('Feature: %d, Selected %s, Rank: %.3f' % (i, rfe.support_[i], rfe.ranking_[i]))\n",
    "\n",
    "ref_features =[]\n",
    "for i in ref_result.columns :\n",
    "    for j in x_train_features.columns :\n",
    "        if np.all(X[j] == rfe_result[i]):\n",
    "            ref_features.append(j)\n",
    "print(ref_features)"
   ]
  }
 ],
 "metadata": {
  "kernelspec": {
   "display_name": "Python 3.10.1 64-bit",
   "language": "python",
   "name": "python3"
  },
  "language_info": {
   "codemirror_mode": {
    "name": "ipython",
    "version": 3
   },
   "file_extension": ".py",
   "mimetype": "text/x-python",
   "name": "python",
   "nbconvert_exporter": "python",
   "pygments_lexer": "ipython3",
   "version": "3.10.1"
  },
  "orig_nbformat": 4,
  "vscode": {
   "interpreter": {
    "hash": "9dc4a390a9b2827902a4747c64ce7fc589728c7a1b50ebf341cedb4beb3b25a3"
   }
  }
 },
 "nbformat": 4,
 "nbformat_minor": 2
}
