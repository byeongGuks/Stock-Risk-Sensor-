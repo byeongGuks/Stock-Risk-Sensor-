{
 "cells": [
  {
   "cell_type": "code",
   "execution_count": 1,
   "metadata": {},
   "outputs": [],
   "source": [
    "import pandas as pd\n",
    "import numpy as np\n",
    "import matplotlib.pyplot as plt"
   ]
  },
  {
   "cell_type": "code",
   "execution_count": 2,
   "metadata": {},
   "outputs": [],
   "source": [
    "x_train = pd.read_csv('./data/track1/features/x_train_normal.csv')\n",
    "x_valid = pd.read_csv('./data/track1/features/x_valid_normal.csv')\n",
    "x_test = pd.read_csv('./data/track1/features/x_test_normal.csv')\n",
    "y_train = pd.read_csv('./data/track1/features/y_train_normal.csv')\n",
    "y_valid = pd.read_csv('./data/track1/features/y_valid_normal.csv')\n",
    "y_test = pd.read_csv('./data/track1/features/y_test_normal.csv')"
   ]
  },
  {
   "cell_type": "code",
   "execution_count": 3,
   "metadata": {},
   "outputs": [],
   "source": [
    "x_train_features = x_train.drop(columns=['날짜', 'CODE'], inplace=False)\n",
    "y = y_train['Y'] <-2.0"
   ]
  },
  {
   "cell_type": "markdown",
   "metadata": {},
   "source": [
    "### 1. Feature Filtering \n",
    "calculate mutual information of features with risk"
   ]
  },
  {
   "cell_type": "code",
   "execution_count": 4,
   "metadata": {},
   "outputs": [
    {
     "data": {
      "image/png": "[encoded data removed]",
      "text/plain": [
       "<Figure size 432x288 with 1 Axes>"
      ]
     },
     "metadata": {
      "needs_background": "light"
     },
     "output_type": "display_data"
    }
   ],
   "source": [
    "from sklearn.feature_selection import mutual_info_classif\n",
    "\n",
    "mutual_info = mutual_info_classif(x_train_features, y, discrete_features=False)\n",
    "mutual_info_series = pd.Series(mutual_info, x_train_features.columns)\n",
    "\n",
    "plt.rc('font', family='Malgun Gothic')\n",
    "mutual_info_series.plot(kind='barh')\n",
    "plt.show()"
   ]
  },
  {
   "cell_type": "markdown",
   "metadata": {},
   "source": [
    "### 2. Backward Feture Selection"
   ]
  },
  {
   "cell_type": "code",
   "execution_count": 6,
   "metadata": {},
   "outputs": [],
   "source": [
    "from sklearn.feature_selection import RFECV\n",
    "from sklearn.ensemble import RandomForestClassifier\n",
    "\n",
    "rfecv = RFECV(estimator=RandomForestClassifier(), step = 1)\n",
    "results = rfecv.fit_transform(x_train_features, y)\n"
   ]
  },
  {
   "cell_type": "code",
   "execution_count": null,
   "metadata": {},
   "outputs": [],
   "source": [
    "print(\"size of optimal feature set : %d\" %rfecv.n_features_ )\n",
    "\n",
    "average_grid_score = rfecv.grid_scores_.mean(axis= 1)\n",
    "\n",
    "plt.figure()\n",
    "plt.xlabel(\"number of selected feature\")\n",
    "plt.ylabel(\"accuracy\")\n",
    "plt.plot(average_grid_score)\n",
    "plt.show()"
   ]
  }
 ],
 "metadata": {
  "kernelspec": {
   "display_name": "Python 3.10.1 64-bit",
   "language": "python",
   "name": "python3"
  },
  "language_info": {
   "codemirror_mode": {
    "name": "ipython",
    "version": 3
   },
   "file_extension": ".py",
   "mimetype": "text/x-python",
   "name": "python",
   "nbconvert_exporter": "python",
   "pygments_lexer": "ipython3",
   "version": "3.10.1"
  },
  "orig_nbformat": 4,
  "vscode": {
   "interpreter": {
    "hash": "9dc4a390a9b2827902a4747c64ce7fc589728c7a1b50ebf341cedb4beb3b25a3"
   }
  }
 },
 "nbformat": 4,
 "nbformat_minor": 2
}
