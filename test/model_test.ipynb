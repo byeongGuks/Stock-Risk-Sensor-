{
 "cells": [
  {
   "attachments": {},
   "cell_type": "markdown",
   "metadata": {},
   "source": [
    "##### Dataset Load"
   ]
  },
  {
   "cell_type": "code",
   "execution_count": 5,
   "metadata": {},
   "outputs": [],
   "source": [
    "import pandas as pd\n",
    "null_values = ['?', '??', 'N/A', 'NA', 'nan', 'NaN', '-nan', '-NaN', 'null', '-']\n",
    "x_test = pd.read_csv('./data/x_test_normal.csv', na_values = null_values)\n",
    "y_test = pd.read_csv('./data/y_test_normal.csv', na_values = null_values)\n",
    "x_test_features = x_test.drop(columns=['날짜', 'CODE', '종가'], inplace=False)\n",
    "y_test_bool = y_test['Y'] <-2.0"
   ]
  },
  {
   "attachments": {},
   "cell_type": "markdown",
   "metadata": {},
   "source": [
    "### 1. Tree Base Simple Classifers"
   ]
  },
  {
   "attachments": {},
   "cell_type": "markdown",
   "metadata": {},
   "source": [
    "##### 1-1 Decision Tree Model"
   ]
  },
  {
   "cell_type": "code",
   "execution_count": 4,
   "metadata": {},
   "outputs": [
    {
     "name": "stdout",
     "output_type": "stream",
     "text": [
      "              precision    recall  f1-score   support\n",
      "\n",
      "     no risk       0.90      0.31      0.46     21040\n",
      "        risk       0.20      0.83      0.32      4311\n",
      "\n",
      "    accuracy                           0.40     25351\n",
      "   macro avg       0.55      0.57      0.39     25351\n",
      "weighted avg       0.78      0.40      0.43     25351\n",
      "\n"
     ]
    }
   ],
   "source": [
    "import pickle\n",
    "import joblib\n",
    "from sklearn import tree\n",
    "from sklearn.metrics import classification_report\n",
    "\n",
    "decisionTree = tree.DecisionTreeClassifier(\n",
    "    max_depth=15,\n",
    "    min_samples_split=100,\n",
    "    class_weight={True: 10, False: 1}\n",
    ")\n",
    "\n",
    "decisionTree = joblib.load('./models/decisionTree.pkl') \n",
    "y_pred = decisionTree.predict(x_test_features)\n",
    "target_names = ['no risk', 'risk']\n",
    "print(classification_report(y_test_bool, y_pred, target_names = target_names))"
   ]
  },
  {
   "attachments": {},
   "cell_type": "markdown",
   "metadata": {},
   "source": [
    "##### 1-2 Random Forest"
   ]
  },
  {
   "cell_type": "code",
   "execution_count": 8,
   "metadata": {},
   "outputs": [
    {
     "name": "stdout",
     "output_type": "stream",
     "text": [
      "              precision    recall  f1-score   support\n",
      "\n",
      "     no risk       0.91      0.38      0.54     21040\n",
      "        risk       0.21      0.82      0.34      4311\n",
      "\n",
      "    accuracy                           0.46     25351\n",
      "   macro avg       0.56      0.60      0.44     25351\n",
      "weighted avg       0.79      0.46      0.50     25351\n",
      "\n"
     ]
    }
   ],
   "source": [
    "from sklearn.metrics import classification_report\n",
    "from sklearn.ensemble import RandomForestClassifier\n",
    "\n",
    "rf = RandomForestClassifier(\n",
    "    n_estimators=200, \n",
    "    criterion='entropy', \n",
    "    min_samples_split = 100,\n",
    "    bootstrap=True,\n",
    "    max_depth=20,\n",
    "    class_weight={True: 10, False: 1}\n",
    "    )\n",
    "rf = joblib.load('./models/randomForest.pkl') \n",
    "y_pred = rf.predict(x_test_features)\n",
    "target_names = ['no risk', 'risk']\n",
    "print(classification_report(y_test_bool, y_pred, target_names = target_names))"
   ]
  },
  {
   "attachments": {},
   "cell_type": "markdown",
   "metadata": {},
   "source": [
    "### 2. LightGBM and Weak Bagging"
   ]
  }
 ],
 "metadata": {
  "kernelspec": {
   "display_name": "base",
   "language": "python",
   "name": "python3"
  },
  "language_info": {
   "codemirror_mode": {
    "name": "ipython",
    "version": 3
   },
   "file_extension": ".py",
   "mimetype": "text/x-python",
   "name": "python",
   "nbconvert_exporter": "python",
   "pygments_lexer": "ipython3",
   "version": "3.9.12"
  },
  "orig_nbformat": 4,
  "vscode": {
   "interpreter": {
    "hash": "d50baee28870d358e64fb0672623b67d817f95823ed506d49d40f53415dd6866"
   }
  }
 },
 "nbformat": 4,
 "nbformat_minor": 2
}
