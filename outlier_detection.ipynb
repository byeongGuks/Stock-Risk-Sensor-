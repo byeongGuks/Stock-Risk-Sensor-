{
 "cells": [
  {
   "cell_type": "code",
   "execution_count": 1,
   "metadata": {},
   "outputs": [],
   "source": [
    "import pandas as pd\n",
    "import numpy as np\n",
    "import matplotlib.pyplot as plt\n",
    "import seaborn as sns"
   ]
  },
  {
   "cell_type": "markdown",
   "metadata": {},
   "source": [
    "### 1. Dataset Load"
   ]
  },
  {
   "cell_type": "code",
   "execution_count": 7,
   "metadata": {},
   "outputs": [],
   "source": [
    "x_train = pd.read_csv('./data/track1/features/x_train.csv')\n",
    "x_valid = pd.read_csv('./data/track1/features/x_valid.csv')\n",
    "x_test = pd.read_csv('./data/track1/features/x_test.csv')\n",
    "y_train = pd.read_csv('./data/track1/features/y_train.csv')\n",
    "y_valid = pd.read_csv('./data/track1/features/y_valid.csv')\n",
    "y_test = pd.read_csv('./data/track1/features/y_test.csv')"
   ]
  },
  {
   "cell_type": "markdown",
   "metadata": {},
   "source": [
    "### 2. Isolation Forest Outlier Detection"
   ]
  },
  {
   "cell_type": "code",
   "execution_count": 8,
   "metadata": {},
   "outputs": [
    {
     "name": "stderr",
     "output_type": "stream",
     "text": [
      "c:\\Users\\bkjeo\\AppData\\Local\\Programs\\Python\\Python310\\lib\\site-packages\\sklearn\\base.py:450: UserWarning: X does not have valid feature names, but IsolationForest was fitted with feature names\n",
      "  warnings.warn(\n"
     ]
    }
   ],
   "source": [
    "from sklearn.ensemble import IsolationForest\n",
    "\n",
    "x = x_train.drop(columns=['날짜', 'CODE'], inplace=False)\n",
    "isf = IsolationForest(n_estimators = 100, random_state = 42, contamination = 0.005)\n",
    "\n",
    "isf_y_train = isf.fit_predict(x)\n",
    "isf_y_valid = isf.predict(x_valid.drop(columns=['날짜', 'CODE'], inplace=False))\n",
    "isf_y_test = isf.predict(x_test.drop(columns=['날짜', 'CODE'], inplace=False))"
   ]
  },
  {
   "cell_type": "code",
   "execution_count": 9,
   "metadata": {},
   "outputs": [
    {
     "name": "stdout",
     "output_type": "stream",
     "text": [
      " 1    76115\n",
      "-1      381\n",
      "Name: isf_y, dtype: int64\n"
     ]
    }
   ],
   "source": [
    "x['isf_y'] = isf_y_train\n",
    "x['y'] = y_train['Y'] <-2.0\n",
    "outliers = x.loc[x['isf_y']==-1]\n",
    "outlier_index = list(outliers.index)\n",
    "print(x['isf_y'].value_counts())"
   ]
  },
  {
   "cell_type": "code",
   "execution_count": 10,
   "metadata": {},
   "outputs": [
    {
     "data": {
      "text/plain": [
       "False    316\n",
       "True      65\n",
       "Name: y, dtype: int64"
      ]
     },
     "execution_count": 10,
     "metadata": {},
     "output_type": "execute_result"
    }
   ],
   "source": [
    "x[x['isf_y'] == -1]['y'].value_counts()"
   ]
  },
  {
   "cell_type": "code",
   "execution_count": 11,
   "metadata": {},
   "outputs": [
    {
     "data": {
      "text/plain": [
       "False    63391\n",
       "True     12724\n",
       "Name: y, dtype: int64"
      ]
     },
     "execution_count": 11,
     "metadata": {},
     "output_type": "execute_result"
    }
   ],
   "source": [
    "x[x['isf_y'] == 1]['y'].value_counts()"
   ]
  },
  {
   "cell_type": "code",
   "execution_count": 14,
   "metadata": {},
   "outputs": [
    {
     "data": {
      "image/png": "[encoded data removed]",
      "text/plain": [
       "<Figure size 432x288 with 1 Axes>"
      ]
     },
     "metadata": {
      "needs_background": "light"
     },
     "output_type": "display_data"
    }
   ],
   "source": [
    "plt.hist(x[x['isf_y'] == -1]['매출액'])\n",
    "\n",
    "plt.show()"
   ]
  },
  {
   "cell_type": "code",
   "execution_count": 15,
   "metadata": {},
   "outputs": [],
   "source": [
    "x_train_normal = x_train[isf_y_train == 1]\n",
    "y_train_normal = y_train[isf_y_train == 1]\n",
    "x_valid_normal = x_valid[isf_y_valid == 1]\n",
    "y_valid_normal = y_valid[isf_y_valid == 1]\n",
    "x_test_normal = x_test[isf_y_test == 1]\n",
    "y_test_normal = y_test[isf_y_test == 1]"
   ]
  },
  {
   "cell_type": "code",
   "execution_count": 20,
   "metadata": {},
   "outputs": [],
   "source": [
    "x_train_out = x_train[isf_y_train == -1]\n",
    "y_train_out = y_train[isf_y_train == -1]\n",
    "x_valid_out = x_valid[isf_y_valid == -1]\n",
    "y_valid_out = y_valid[isf_y_valid == -1]\n",
    "x_test_out = x_test[isf_y_test == -1]\n",
    "y_test_out = y_test[isf_y_test == -1]"
   ]
  },
  {
   "cell_type": "code",
   "execution_count": 16,
   "metadata": {},
   "outputs": [],
   "source": [
    "x_train_normal.to_csv('./data/track1/features/x_train_normal.csv', index=False)\n",
    "x_valid_normal.to_csv('./data/track1/features/x_valid_normal.csv', index=False)\n",
    "x_test_normal.to_csv('./data/track1/features/x_test_normal.csv', index=False)\n",
    "y_train_normal.to_csv('./data/track1/features/y_train_normal.csv', index=False)\n",
    "y_valid_normal.to_csv('./data/track1/features/y_valid_normal.csv', index=False)\n",
    "y_test_normal.to_csv('./data/track1/features/y_test_normal.csv', index=False)"
   ]
  }
 ],
 "metadata": {
  "kernelspec": {
   "display_name": "Python 3.10.1 64-bit",
   "language": "python",
   "name": "python3"
  },
  "language_info": {
   "codemirror_mode": {
    "name": "ipython",
    "version": 3
   },
   "file_extension": ".py",
   "mimetype": "text/x-python",
   "name": "python",
   "nbconvert_exporter": "python",
   "pygments_lexer": "ipython3",
   "version": "3.10.1"
  },
  "orig_nbformat": 4,
  "vscode": {
   "interpreter": {
    "hash": "9dc4a390a9b2827902a4747c64ce7fc589728c7a1b50ebf341cedb4beb3b25a3"
   }
  }
 },
 "nbformat": 4,
 "nbformat_minor": 2
}
